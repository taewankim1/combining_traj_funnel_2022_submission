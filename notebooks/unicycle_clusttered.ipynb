{
 "cells": [
  {
   "cell_type": "code",
   "execution_count": 38,
   "metadata": {},
   "outputs": [],
   "source": [
    "%reset -f"
   ]
  },
  {
   "cell_type": "code",
   "execution_count": 39,
   "metadata": {},
   "outputs": [
    {
     "name": "stdout",
     "output_type": "stream",
     "text": [
      "The autoreload extension is already loaded. To reload it, use:\n",
      "  %reload_ext autoreload\n"
     ]
    }
   ],
   "source": [
    "import matplotlib.pyplot as plt\n",
    "%matplotlib inline\n",
    "%load_ext autoreload\n",
    "%autoreload 2\n",
    "import numpy as np\n",
    "import time\n",
    "import random\n",
    "def print_np(x):\n",
    "    print (\"Type is %s\" % (type(x)))\n",
    "    print (\"Shape is %s\" % (x.shape,))\n",
    "#     print (\"Values are: \\n%s\" % (x))"
   ]
  },
  {
   "cell_type": "code",
   "execution_count": 40,
   "metadata": {},
   "outputs": [],
   "source": [
    "import os\n",
    "import sys\n",
    "sys.path.append('../')"
   ]
  },
  {
   "cell_type": "code",
   "execution_count": 41,
   "metadata": {},
   "outputs": [],
   "source": [
    "from model import UnicycleModel\n",
    "from cost import UnicycleCost\n",
    "from constraints import UnicycleConstraints\n",
    "from scipy.integrate import solve_ivp\n",
    "from matplotlib.patches import Ellipse\n",
    "from utils.utils_alg import get_neighbor_vec,get_K_discrete\n",
    "from utils.utils_plot import plot_traj,plot_traj_set,plot_state_input,plot_comparison\n",
    "\n",
    "from trajopt import trajopt\n",
    "from funlopt import funlopt\n",
    "from Lipschitz import Lipschitz\n",
    "from Scaling import TrajectoryScaling\n",
    "\n",
    "from utils.utils_alg import get_sample_eta_w,propagate_model\n",
    "import cvxpy as cvx\n",
    "from scipy.integrate import solve_ivp\n",
    "\n"
   ]
  },
  {
   "cell_type": "code",
   "execution_count": 42,
   "metadata": {},
   "outputs": [],
   "source": [
    "N = 30\n",
    "tf = 10\n",
    "delT = tf/N"
   ]
  },
  {
   "cell_type": "markdown",
   "metadata": {},
   "source": [
    "## obstacle setting"
   ]
  },
  {
   "cell_type": "code",
   "execution_count": 43,
   "metadata": {},
   "outputs": [],
   "source": [
    "def get_H_obs(rx,ry) :\n",
    "    return np.diag([1/rx,1/ry])\n",
    "# obstacle\n",
    "c_list = []\n",
    "H_list = []\n",
    "\n",
    "\n",
    "c_list.append([1.8,0.3])\n",
    "H_list.append(get_H_obs(0.5,0.5))\n",
    "\n",
    "c_list.append([2*2/3,3.5])\n",
    "H_list.append(get_H_obs(0.5,0.5))\n",
    "\n",
    "c_list.append([4.2,0.7])\n",
    "H_list.append(get_H_obs(0.5,0.5))\n",
    "c_list.append([3.8,3.5])\n",
    "H_list.append(get_H_obs(0.5,0.5))\n",
    "\n",
    "c_list.append([10*2/3,0.5])\n",
    "H_list.append(get_H_obs(0.5,0.5))\n",
    "c_list.append([6.5,4])\n",
    "H_list.append(get_H_obs(0.5,0.5))\n",
    "\n",
    "\n",
    "\n",
    "c_list.append([4*2/3,1.7])\n",
    "H_list.append(get_H_obs(0.5,0.5))\n",
    "c_list.append([8*2/3,2.3])\n",
    "H_list.append(get_H_obs(0.5,0.5))\n",
    "\n",
    "c_list.append([0.5,2])\n",
    "H_list.append(get_H_obs(0.5,0.5))\n",
    "c_list.append([8,2.3])\n",
    "H_list.append(get_H_obs(0.5,0.5))\n"
   ]
  },
  {
   "cell_type": "markdown",
   "metadata": {},
   "source": [
    "## initial and final conditions "
   ]
  },
  {
   "cell_type": "code",
   "execution_count": 44,
   "metadata": {},
   "outputs": [],
   "source": [
    "type_model = 1\n",
    "if type_model == 1 :\n",
    "    myModel = UnicycleModel.unicycle1('unicycle','numeric_central')\n",
    "elif type_model == 2 :\n",
    "    myModel = UnicycleModel.unicycle2('unicycle','numeric_central')\n",
    "elif type_model == 3 :\n",
    "    myModel = UnicycleModel.unicycle3('unicycle','numeric_central')\n",
    "\n",
    "ix = myModel.ix\n",
    "iu = myModel.iu\n",
    "iw = myModel.iw\n",
    "iq = myModel.iq\n",
    "ip = myModel.ip\n",
    "\n",
    "C = myModel.C\n",
    "D = myModel.D\n",
    "E = myModel.E\n",
    "G = myModel.G\n",
    "\n",
    "myCost = UnicycleCost.unicycle('Hello',ix,iu,N,weight_factor_omega=1)\n",
    "myConst = UnicycleConstraints.UnicycleConstraints('Hello',ix,iu,vmax=1.5,wmax=1.0,wmin=-1.0)\n",
    "myConst.set_obstacle(c_list,H_list)\n",
    "\n"
   ]
  },
  {
   "cell_type": "code",
   "execution_count": 45,
   "metadata": {},
   "outputs": [],
   "source": [
    "xi = np.zeros(3)\n",
    "xi[0] = 0.0\n",
    "xi[1] = 0.0 \n",
    "xi[2] = 0.0\n",
    "\n",
    "xf = np.zeros(3)\n",
    "xf[0] = 8.0\n",
    "xf[1] = 4.0\n",
    "xf[2] = np.deg2rad(30)\n",
    "\n",
    "Qini = np.diag([0.2**2,0.2**2,np.deg2rad(10)**2])\n",
    "Qf = np.diag([0.2**2,0.2**2,np.deg2rad(10)**2])\n",
    "\n",
    "x0 = np.zeros((N+1,ix))\n",
    "for i in range(N+1) :\n",
    "    x0[i] = (N-i)/N * xi + i/N * xf\n",
    "u0 = np.zeros((N+1,iu))"
   ]
  },
  {
   "cell_type": "code",
   "execution_count": 46,
   "metadata": {},
   "outputs": [],
   "source": [
    "A,B,s,z,x_prop_n = myModel.diff_discrete_zoh(x0[0:N,:],u0[0:N,:],delT,tf) \n",
    "S = np.eye(ix)\n",
    "R = 1*np.eye(iu)\n",
    "K0 = get_K_discrete(A,B,S,R,S,N,ix,iu)\n",
    "Q0 = np.tile(np.diag([0.2**2,0.2**2,np.deg2rad(10)**2]),(N+1,1,1))\n",
    "Y0 = K0@Q0[:N]\n",
    "betahat = np.ones(N+1)"
   ]
  },
  {
   "cell_type": "code",
   "execution_count": 47,
   "metadata": {},
   "outputs": [],
   "source": [
    "x_max = np.array([10,10,np.pi])\n",
    "x_min = np.zeros(ix)\n",
    "\n",
    "u_max = np.array([5,5]) \n",
    "u_min = np.zeros(iu)\n",
    "\n",
    "traj_scaling = TrajectoryScaling(x_min,x_max,u_min,u_max,tf)\n",
    "\n",
    "x_max = np.array([1,1,np.pi])\n",
    "x_min = np.zeros(ix)\n",
    "\n",
    "u_max = np.array([5,5]) \n",
    "u_min = np.zeros(iu)\n",
    "\n",
    "funl_scaling = TrajectoryScaling(x_min,x_max,u_min,u_max,tf)\n",
    "funl_scaling.snu_p = 1"
   ]
  },
  {
   "cell_type": "code",
   "execution_count": 48,
   "metadata": {},
   "outputs": [
    {
     "name": "stdout",
     "output_type": "stream",
     "text": [
      "Is DPP?  True\n"
     ]
    }
   ],
   "source": [
    "traj_solver= trajopt('unicycle',N,tf,10,myModel,myCost,myConst,Scaling=traj_scaling,\n",
    "              w_c=1,w_vc=1e2,w_tr=1e0,tol_vc=1e-6,tol_tr=1e-4,tol_dyn=1e-3,verbosity=True)"
   ]
  },
  {
   "cell_type": "code",
   "execution_count": 49,
   "metadata": {
    "scrolled": false
   },
   "outputs": [
    {
     "name": "stdout",
     "output_type": "stream",
     "text": [
      "┌──────────────────────────────────────────────────────────────────────────────────────────────┐\n",
      "\n",
      "│                                              ..:: SCP ::..                                   │\n",
      "\n",
      "├──────┬───────────┬──────────┬─────────┬───────────┬────────────┬─────────┬─────────┬─────────┤\n",
      "\n",
      "│ iter │  total    │ final    │ input   │     -     │ total cost │ vc      │ tr      │ dyn     │\n",
      "\n",
      "│      │  cost     │ time [s] │ energy  │     -     │ reduction  │ (log10) │         │         │\n",
      "\n",
      "├──────┼───────────┼──────────┼─────────┼───────────┼────────────┼─────────┼─────────┼─────────┤\n",
      "\n",
      "│1     │40.633     │10.000    │21.4     │0          │-40.6       │0(-0.74 )│0(0.872 )│0(0.633 )│\n",
      "│2     │24.732     │10.000    │24.4     │0          │15.9        │1(-9.69 )│0(0.326 )│0(0.033 )│\n",
      "│3     │25.687     │10.000    │25.7     │0          │-0.955      │1(-10.04)│0(0.014 )│0(0.003 )│\n",
      "│4     │25.636     │10.000    │25.6     │0          │0.0503      │1(-10.26)│0(0.001 )│1(0.000 )│\n",
      "│5     │25.618     │10.000    │25.6     │0          │0.0186      │1(-10.20)│0(0.000 )│1(0.000 )│\n",
      "│6     │25.617     │10.000    │25.6     │0          │0.00045     │1(-10.20)│1(0.000 )│1(0.000 )│\n",
      "├──────┴───────────┴──────────┴─────────┴───────────┴────────────┴─────────┴─────────┴─────────┤\n",
      "\n",
      "│                SUCCEESS: virtual control and trust region < tol                              │\n",
      "\n",
      "└──────────────────────────────────────────────────────────────────────────────────────────────┘\n",
      "\n"
     ]
    }
   ],
   "source": [
    "_,_,xnom,unom,_,total_num_iter,_,_,_,_,history_nom = traj_solver.run(x0,u0,xi,xf)\n",
    "tnom = np.array(range(N+1))*delT"
   ]
  },
  {
   "cell_type": "code",
   "execution_count": 50,
   "metadata": {},
   "outputs": [
    {
     "data": {
      "image/png": "[encoded data removed]",
      "text/plain": [
       "<Figure size 1500x700 with 1 Axes>"
      ]
     },
     "metadata": {},
     "output_type": "display_data"
    },
    {
     "data": {
      "image/png": "[encoded data removed]",
      "text/plain": [
       "<Figure size 1000x400 with 2 Axes>"
      ]
     },
     "metadata": {},
     "output_type": "display_data"
    }
   ],
   "source": [
    "fS = 15\n",
    "plt.figure(0,figsize=(15,7))\n",
    "plot_traj_set(x0,u0,c_list,H_list,Q0,xi=xi,xf=xf,Qi=Qini,Qf=Qf,plt=plt)\n",
    "plt.plot(xnom[:,0],xnom[:,1],'o-',color='tab:brown',label='traj w/o funnel')\n",
    "plt.axis([-1.0, 9.0, -1.0, 5.0])\n",
    "plt.figure(1,figsize=(10,4))\n",
    "plt.subplot(121)\n",
    "plt.plot(tnom, unom[:,0]*0+myConst.vmax,'-.',color='tab:red',alpha=1.0,linewidth=2.0,label='limit')\n",
    "plt.plot(tnom, unom[:,0]*0+myConst.vmin,'-.',color='tab:red',alpha=1.0,linewidth=2.0)\n",
    "plt.step(tnom, [*unom[:N,0],unom[N-1,0]],'-',color='tab:brown',alpha=1.0,where='post',linewidth=2.0,label='nominal')\n",
    "plt.plot(1e3, 1e3,'-',color='tab:purple',alpha=1.0,linewidth=1.0,label='samples')\n",
    "plt.xlabel('time (s)', fontsize = fS)\n",
    "plt.ylabel('$u_v$ (m/s)', fontsize = fS)\n",
    "plt.xticks(fontsize=15)\n",
    "plt.yticks(fontsize=15)\n",
    "plt.axis([0.0, tf, -0.5, 3.5])\n",
    "plt.grid(True)\n",
    "\n",
    "plt.subplot(122)\n",
    "plt.plot(tnom, unom[:,1]*0+myConst.wmax,'-.',color='tab:red',alpha=1.0,linewidth=2.0)\n",
    "plt.plot(tnom, unom[:,1]*0+myConst.wmin,'-.',color='tab:red',alpha=1.0,linewidth=2.0,label='limit')\n",
    "plt.step(tnom, [*unom[:N,1],unom[N-1,1]],'-',color='tab:brown',alpha=1.0,where='post',linewidth=2.0,label='nominal')\n",
    "plt.plot(1e3, 1e3,'-',color='tab:purple',alpha=1.0,linewidth=1.0,label='samples')\n",
    "plt.xlabel('time (s)', fontsize = fS)\n",
    "plt.ylabel('$u_{\\Theta}$ (rad/s)', fontsize = fS)\n",
    "plt.xticks(fontsize=15)\n",
    "plt.yticks(fontsize=15)\n",
    "plt.axis([0.0, tf, -3, 3])\n",
    "plt.legend(fontsize=fS)\n",
    "plt.rcParams[\"font.family\"] = \"Times New Roman\"\n",
    "plt.grid(True)"
   ]
  },
  {
   "cell_type": "markdown",
   "metadata": {},
   "source": [
    "## run"
   ]
  },
  {
   "cell_type": "code",
   "execution_count": 51,
   "metadata": {},
   "outputs": [
    {
     "name": "stdout",
     "output_type": "stream",
     "text": [
      "Is DPP?  True\n",
      "nonlinear funnel\n",
      "Is DPP?  True\n"
     ]
    }
   ],
   "source": [
    "total_iter = 40\n",
    "max_iter_trajopt = 1\n",
    "\n",
    "tol_funl = 1e-8\n",
    "tol_traj = 1e-8\n",
    "tol_vc = 1e-8\n",
    "tol_dyn = 1e-8\n",
    "\n",
    "alpha = 0.99\n",
    "lambda_mu = 0.2\n",
    "funl_w_tr = 1e-8\n",
    "\n",
    "traj_solver= trajopt('unicycle',N,tf,max_iter_trajopt,myModel,myCost,myConst,Scaling=traj_scaling,\n",
    "              w_c=1,w_vc=1e3,w_tr=1e-1,tol_vc=1e-6,tol_tr=1e-4,tol_dyn=1e-3,verbosity=False)\n",
    "\n",
    "funl_solver = funlopt('unicycle',ix,iu,iq,ip,iw,N,funl_scaling,\n",
    "                      alpha=alpha,\n",
    "                      lambda_mu=lambda_mu,\n",
    "                      w_tr=funl_w_tr,\n",
    "                      flag_nonlinearity=True)\n",
    "funl_solver.cvx_initialize(Qini,Qf,num_const_state=len(c_list),num_const_input=4)\n",
    "# funl_solver.cvx_initialize(Qini,Qf,num_const_state=0,num_const_input=0)\n",
    "lip_estimator = Lipschitz('unicycle',ix,iu,iq,ip,iw,N,num_sample=100,flag_uniform=True)\n",
    "\n",
    "from jointsynthesis import jointsynthesis\n",
    "JS = jointsynthesis(myModel,traj_solver,funl_solver,lip_estimator,total_iter,\n",
    "                   tol_traj,tol_funl,tol_vc,tol_dyn,verbosity=True)"
   ]
  },
  {
   "cell_type": "code",
   "execution_count": 52,
   "metadata": {},
   "outputs": [
    {
     "ename": "KeyboardInterrupt",
     "evalue": "",
     "output_type": "error",
     "traceback": [
      "\u001b[0;31m---------------------------------------------------------------------------\u001b[0m",
      "\u001b[0;31mKeyboardInterrupt\u001b[0m                         Traceback (most recent call last)",
      "\u001b[1;32m/Users/taewankim/Documents/Code/ForPapers/2022_IJRNC_joint_synthesis/notebooks/unicycle_clusttered.ipynb Cell 18\u001b[0m line \u001b[0;36m1\n\u001b[0;32m----> <a href='vscode-notebook-cell:/Users/taewankim/Documents/Code/ForPapers/2022_IJRNC_joint_synthesis/notebooks/unicycle_clusttered.ipynb#X23sZmlsZQ%3D%3D?line=0'>1</a>\u001b[0m history \u001b[39m=\u001b[39m JS\u001b[39m.\u001b[39;49mrun(xi,xf,x0,u0,Q0,Y0,K0)\n",
      "File \u001b[0;32m~/Documents/Code/ForPapers/2022_IJRNC_joint_synthesis/notebooks/../jointsynthesis.py:68\u001b[0m, in \u001b[0;36mjointsynthesis.run\u001b[0;34m(self, xi, xf, x0, u0, Q0, Y0, K0)\u001b[0m\n\u001b[1;32m     66\u001b[0m \u001b[39m# STEP 3 : Funnel update via SDP\u001b[39;00m\n\u001b[1;32m     67\u001b[0m tic \u001b[39m=\u001b[39m time\u001b[39m.\u001b[39mtime()\n\u001b[0;32m---> 68\u001b[0m Qnew,Knew,Ynew,status,funl_cost \u001b[39m=\u001b[39m \u001b[39mself\u001b[39;49m\u001b[39m.\u001b[39;49mfunl_solver\u001b[39m.\u001b[39;49msolve(gammanew,Qhat,Yhat,A,B,C,D,E,F,G,\n\u001b[1;32m     69\u001b[0m     const_state\u001b[39m=\u001b[39;49mconst_state,const_input\u001b[39m=\u001b[39;49mconst_input)\n\u001b[1;32m     70\u001b[0m sub_history[\u001b[39m'\u001b[39m\u001b[39mt_funlopt\u001b[39m\u001b[39m'\u001b[39m] \u001b[39m=\u001b[39m time\u001b[39m.\u001b[39mtime() \u001b[39m-\u001b[39m tic\n\u001b[1;32m     72\u001b[0m \u001b[39m# measure the difference\u001b[39;00m\n",
      "File \u001b[0;32m~/Documents/Code/ForPapers/2022_IJRNC_joint_synthesis/notebooks/../funlopt.py:305\u001b[0m, in \u001b[0;36mfunlopt.solve\u001b[0;34m(self, gamma, Qhat, Yhat, A, B, C, D, E, F, G, const_state, const_input)\u001b[0m\n\u001b[1;32m    303\u001b[0m     \u001b[39mself\u001b[39m\u001b[39m.\u001b[39mprob\u001b[39m.\u001b[39msolve(solver\u001b[39m=\u001b[39mcvx\u001b[39m.\u001b[39mMOSEK,ignore_dpp\u001b[39m=\u001b[39m\u001b[39mself\u001b[39m\u001b[39m.\u001b[39mignore_dpp)\n\u001b[1;32m    304\u001b[0m \u001b[39melif\u001b[39;00m \u001b[39mself\u001b[39m\u001b[39m.\u001b[39msolver \u001b[39m==\u001b[39m \u001b[39m\"\u001b[39m\u001b[39mCLARABEL\u001b[39m\u001b[39m\"\u001b[39m :\n\u001b[0;32m--> 305\u001b[0m     \u001b[39mself\u001b[39;49m\u001b[39m.\u001b[39;49mprob\u001b[39m.\u001b[39;49msolve(solver\u001b[39m=\u001b[39;49mcvx\u001b[39m.\u001b[39;49mCLARABEL,ignore_dpp\u001b[39m=\u001b[39;49m\u001b[39mself\u001b[39;49m\u001b[39m.\u001b[39;49mignore_dpp)\n\u001b[1;32m    306\u001b[0m \u001b[39m# self.prob.solve(solver=cvx.CLARABEL,ignore_dpp=self.ignore_dpp,verbose=True)\u001b[39;00m\n\u001b[1;32m    308\u001b[0m Qnew \u001b[39m=\u001b[39m []\n",
      "File \u001b[0;32m/opt/anaconda3/envs/py309/lib/python3.9/site-packages/cvxpy/problems/problem.py:503\u001b[0m, in \u001b[0;36mProblem.solve\u001b[0;34m(self, *args, **kwargs)\u001b[0m\n\u001b[1;32m    501\u001b[0m \u001b[39melse\u001b[39;00m:\n\u001b[1;32m    502\u001b[0m     solve_func \u001b[39m=\u001b[39m Problem\u001b[39m.\u001b[39m_solve\n\u001b[0;32m--> 503\u001b[0m \u001b[39mreturn\u001b[39;00m solve_func(\u001b[39mself\u001b[39;49m, \u001b[39m*\u001b[39;49margs, \u001b[39m*\u001b[39;49m\u001b[39m*\u001b[39;49mkwargs)\n",
      "File \u001b[0;32m/opt/anaconda3/envs/py309/lib/python3.9/site-packages/cvxpy/problems/problem.py:1072\u001b[0m, in \u001b[0;36mProblem._solve\u001b[0;34m(self, solver, warm_start, verbose, gp, qcp, requires_grad, enforce_dpp, ignore_dpp, canon_backend, **kwargs)\u001b[0m\n\u001b[1;32m   1069\u001b[0m         \u001b[39mself\u001b[39m\u001b[39m.\u001b[39munpack(chain\u001b[39m.\u001b[39mretrieve(soln))\n\u001b[1;32m   1070\u001b[0m         \u001b[39mreturn\u001b[39;00m \u001b[39mself\u001b[39m\u001b[39m.\u001b[39mvalue\n\u001b[0;32m-> 1072\u001b[0m data, solving_chain, inverse_data \u001b[39m=\u001b[39m \u001b[39mself\u001b[39;49m\u001b[39m.\u001b[39;49mget_problem_data(\n\u001b[1;32m   1073\u001b[0m     solver, gp, enforce_dpp, ignore_dpp, verbose, canon_backend, kwargs\n\u001b[1;32m   1074\u001b[0m )\n\u001b[1;32m   1076\u001b[0m \u001b[39mif\u001b[39;00m verbose:\n\u001b[1;32m   1077\u001b[0m     \u001b[39mprint\u001b[39m(_NUM_SOLVER_STR)\n",
      "File \u001b[0;32m/opt/anaconda3/envs/py309/lib/python3.9/site-packages/cvxpy/problems/problem.py:696\u001b[0m, in \u001b[0;36mProblem.get_problem_data\u001b[0;34m(self, solver, gp, enforce_dpp, ignore_dpp, verbose, canon_backend, solver_opts)\u001b[0m\n\u001b[1;32m    693\u001b[0m     s\u001b[39m.\u001b[39mLOGGER\u001b[39m.\u001b[39minfo(\n\u001b[1;32m    694\u001b[0m              \u001b[39m'\u001b[39m\u001b[39mCompiling problem (target solver=\u001b[39m\u001b[39m%s\u001b[39;00m\u001b[39m).\u001b[39m\u001b[39m'\u001b[39m, solver_name)\n\u001b[1;32m    695\u001b[0m     s\u001b[39m.\u001b[39mLOGGER\u001b[39m.\u001b[39minfo(\u001b[39m'\u001b[39m\u001b[39mReduction chain: \u001b[39m\u001b[39m%s\u001b[39;00m\u001b[39m'\u001b[39m, reduction_chain_str)\n\u001b[0;32m--> 696\u001b[0m data, inverse_data \u001b[39m=\u001b[39m solving_chain\u001b[39m.\u001b[39;49mapply(\u001b[39mself\u001b[39;49m, verbose)\n\u001b[1;32m    697\u001b[0m safe_to_cache \u001b[39m=\u001b[39m (\n\u001b[1;32m    698\u001b[0m     \u001b[39misinstance\u001b[39m(data, \u001b[39mdict\u001b[39m)\n\u001b[1;32m    699\u001b[0m     \u001b[39mand\u001b[39;00m s\u001b[39m.\u001b[39mPARAM_PROB \u001b[39min\u001b[39;00m data\n\u001b[1;32m    700\u001b[0m     \u001b[39mand\u001b[39;00m \u001b[39mnot\u001b[39;00m \u001b[39many\u001b[39m(\u001b[39misinstance\u001b[39m(reduction, EvalParams)\n\u001b[1;32m    701\u001b[0m                 \u001b[39mfor\u001b[39;00m reduction \u001b[39min\u001b[39;00m solving_chain\u001b[39m.\u001b[39mreductions)\n\u001b[1;32m    702\u001b[0m )\n\u001b[1;32m    703\u001b[0m \u001b[39mself\u001b[39m\u001b[39m.\u001b[39m_compilation_time \u001b[39m=\u001b[39m time\u001b[39m.\u001b[39mtime() \u001b[39m-\u001b[39m start\n",
      "File \u001b[0;32m/opt/anaconda3/envs/py309/lib/python3.9/site-packages/cvxpy/reductions/chain.py:76\u001b[0m, in \u001b[0;36mChain.apply\u001b[0;34m(self, problem, verbose)\u001b[0m\n\u001b[1;32m     74\u001b[0m     \u001b[39mif\u001b[39;00m verbose:\n\u001b[1;32m     75\u001b[0m         s\u001b[39m.\u001b[39mLOGGER\u001b[39m.\u001b[39minfo(\u001b[39m'\u001b[39m\u001b[39mApplying reduction \u001b[39m\u001b[39m%s\u001b[39;00m\u001b[39m'\u001b[39m, \u001b[39mtype\u001b[39m(r)\u001b[39m.\u001b[39m\u001b[39m__name__\u001b[39m)\n\u001b[0;32m---> 76\u001b[0m     problem, inv \u001b[39m=\u001b[39m r\u001b[39m.\u001b[39;49mapply(problem)\n\u001b[1;32m     77\u001b[0m     inverse_data\u001b[39m.\u001b[39mappend(inv)\n\u001b[1;32m     78\u001b[0m \u001b[39mreturn\u001b[39;00m problem, inverse_data\n",
      "File \u001b[0;32m/opt/anaconda3/envs/py309/lib/python3.9/site-packages/cvxpy/reductions/dcp2cone/cone_matrix_stuffing.py:332\u001b[0m, in \u001b[0;36mConeMatrixStuffing.apply\u001b[0;34m(self, problem)\u001b[0m\n\u001b[1;32m    331\u001b[0m \u001b[39mdef\u001b[39;00m \u001b[39mapply\u001b[39m(\u001b[39mself\u001b[39m, problem):\n\u001b[0;32m--> 332\u001b[0m     inverse_data \u001b[39m=\u001b[39m InverseData(problem)\n\u001b[1;32m    333\u001b[0m     \u001b[39m# Form the constraints\u001b[39;00m\n\u001b[1;32m    334\u001b[0m     extractor \u001b[39m=\u001b[39m CoeffExtractor(inverse_data, \u001b[39mself\u001b[39m\u001b[39m.\u001b[39mcanon_backend)\n",
      "File \u001b[0;32m/opt/anaconda3/envs/py309/lib/python3.9/site-packages/cvxpy/reductions/inverse_data.py:24\u001b[0m, in \u001b[0;36mInverseData.__init__\u001b[0;34m(self, problem)\u001b[0m\n\u001b[1;32m     23\u001b[0m \u001b[39mdef\u001b[39;00m \u001b[39m__init__\u001b[39m(\u001b[39mself\u001b[39m, problem) \u001b[39m-\u001b[39m\u001b[39m>\u001b[39m \u001b[39mNone\u001b[39;00m:\n\u001b[0;32m---> 24\u001b[0m     varis \u001b[39m=\u001b[39m problem\u001b[39m.\u001b[39;49mvariables()\n\u001b[1;32m     25\u001b[0m     \u001b[39mself\u001b[39m\u001b[39m.\u001b[39mid_map, \u001b[39mself\u001b[39m\u001b[39m.\u001b[39mvar_offsets, \u001b[39mself\u001b[39m\u001b[39m.\u001b[39mx_length, \u001b[39mself\u001b[39m\u001b[39m.\u001b[39mvar_shapes \u001b[39m=\u001b[39m \\\n\u001b[1;32m     26\u001b[0m         InverseData\u001b[39m.\u001b[39mget_var_offsets(varis)\n\u001b[1;32m     28\u001b[0m     \u001b[39mself\u001b[39m\u001b[39m.\u001b[39mparam_shapes \u001b[39m=\u001b[39m {}\n",
      "File \u001b[0;32m/opt/anaconda3/envs/py309/lib/python3.9/site-packages/cvxpy/utilities/performance_utils.py:73\u001b[0m, in \u001b[0;36mcompute_once.<locals>._compute_once\u001b[0;34m(self, *args, **kwargs)\u001b[0m\n\u001b[1;32m     71\u001b[0m \u001b[39mif\u001b[39;00m key \u001b[39min\u001b[39;00m cache:\n\u001b[1;32m     72\u001b[0m     \u001b[39mreturn\u001b[39;00m cache[key]\n\u001b[0;32m---> 73\u001b[0m result \u001b[39m=\u001b[39m func(\u001b[39mself\u001b[39;49m, \u001b[39m*\u001b[39;49margs, \u001b[39m*\u001b[39;49m\u001b[39m*\u001b[39;49mkwargs)\n\u001b[1;32m     74\u001b[0m cache[key] \u001b[39m=\u001b[39m result\n\u001b[1;32m     75\u001b[0m \u001b[39mreturn\u001b[39;00m result\n",
      "File \u001b[0;32m/opt/anaconda3/envs/py309/lib/python3.9/site-packages/cvxpy/problems/problem.py:349\u001b[0m, in \u001b[0;36mProblem.variables\u001b[0;34m(self)\u001b[0m\n\u001b[1;32m    347\u001b[0m vars_ \u001b[39m=\u001b[39m \u001b[39mself\u001b[39m\u001b[39m.\u001b[39mobjective\u001b[39m.\u001b[39mvariables()\n\u001b[1;32m    348\u001b[0m \u001b[39mfor\u001b[39;00m constr \u001b[39min\u001b[39;00m \u001b[39mself\u001b[39m\u001b[39m.\u001b[39mconstraints:\n\u001b[0;32m--> 349\u001b[0m     vars_ \u001b[39m+\u001b[39m\u001b[39m=\u001b[39m constr\u001b[39m.\u001b[39;49mvariables()\n\u001b[1;32m    350\u001b[0m \u001b[39mreturn\u001b[39;00m unique_list(vars_)\n",
      "File \u001b[0;32m/opt/anaconda3/envs/py309/lib/python3.9/site-packages/cvxpy/utilities/canonical.py:53\u001b[0m, in \u001b[0;36mCanonical.variables\u001b[0;34m(self)\u001b[0m\n\u001b[1;32m     49\u001b[0m \u001b[39mdef\u001b[39;00m \u001b[39mvariables\u001b[39m(\u001b[39mself\u001b[39m):\n\u001b[1;32m     50\u001b[0m \u001b[39m    \u001b[39m\u001b[39m\"\"\"Returns all the variables present in the arguments.\u001b[39;00m\n\u001b[1;32m     51\u001b[0m \u001b[39m    \"\"\"\u001b[39;00m\n\u001b[1;32m     52\u001b[0m     \u001b[39mreturn\u001b[39;00m unique_list(\n\u001b[0;32m---> 53\u001b[0m         [var \u001b[39mfor\u001b[39;00m arg \u001b[39min\u001b[39;00m \u001b[39mself\u001b[39m\u001b[39m.\u001b[39margs \u001b[39mfor\u001b[39;00m var \u001b[39min\u001b[39;00m arg\u001b[39m.\u001b[39mvariables()])\n",
      "File \u001b[0;32m/opt/anaconda3/envs/py309/lib/python3.9/site-packages/cvxpy/utilities/canonical.py:53\u001b[0m, in \u001b[0;36m<listcomp>\u001b[0;34m(.0)\u001b[0m\n\u001b[1;32m     49\u001b[0m \u001b[39mdef\u001b[39;00m \u001b[39mvariables\u001b[39m(\u001b[39mself\u001b[39m):\n\u001b[1;32m     50\u001b[0m \u001b[39m    \u001b[39m\u001b[39m\"\"\"Returns all the variables present in the arguments.\u001b[39;00m\n\u001b[1;32m     51\u001b[0m \u001b[39m    \"\"\"\u001b[39;00m\n\u001b[1;32m     52\u001b[0m     \u001b[39mreturn\u001b[39;00m unique_list(\n\u001b[0;32m---> 53\u001b[0m         [var \u001b[39mfor\u001b[39;00m arg \u001b[39min\u001b[39;00m \u001b[39mself\u001b[39m\u001b[39m.\u001b[39margs \u001b[39mfor\u001b[39;00m var \u001b[39min\u001b[39;00m arg\u001b[39m.\u001b[39;49mvariables()])\n",
      "File \u001b[0;32m/opt/anaconda3/envs/py309/lib/python3.9/site-packages/cvxpy/utilities/canonical.py:53\u001b[0m, in \u001b[0;36mCanonical.variables\u001b[0;34m(self)\u001b[0m\n\u001b[1;32m     49\u001b[0m \u001b[39mdef\u001b[39;00m \u001b[39mvariables\u001b[39m(\u001b[39mself\u001b[39m):\n\u001b[1;32m     50\u001b[0m \u001b[39m    \u001b[39m\u001b[39m\"\"\"Returns all the variables present in the arguments.\u001b[39;00m\n\u001b[1;32m     51\u001b[0m \u001b[39m    \"\"\"\u001b[39;00m\n\u001b[1;32m     52\u001b[0m     \u001b[39mreturn\u001b[39;00m unique_list(\n\u001b[0;32m---> 53\u001b[0m         [var \u001b[39mfor\u001b[39;00m arg \u001b[39min\u001b[39;00m \u001b[39mself\u001b[39m\u001b[39m.\u001b[39margs \u001b[39mfor\u001b[39;00m var \u001b[39min\u001b[39;00m arg\u001b[39m.\u001b[39mvariables()])\n",
      "File \u001b[0;32m/opt/anaconda3/envs/py309/lib/python3.9/site-packages/cvxpy/utilities/canonical.py:53\u001b[0m, in \u001b[0;36m<listcomp>\u001b[0;34m(.0)\u001b[0m\n\u001b[1;32m     49\u001b[0m \u001b[39mdef\u001b[39;00m \u001b[39mvariables\u001b[39m(\u001b[39mself\u001b[39m):\n\u001b[1;32m     50\u001b[0m \u001b[39m    \u001b[39m\u001b[39m\"\"\"Returns all the variables present in the arguments.\u001b[39;00m\n\u001b[1;32m     51\u001b[0m \u001b[39m    \"\"\"\u001b[39;00m\n\u001b[1;32m     52\u001b[0m     \u001b[39mreturn\u001b[39;00m unique_list(\n\u001b[0;32m---> 53\u001b[0m         [var \u001b[39mfor\u001b[39;00m arg \u001b[39min\u001b[39;00m \u001b[39mself\u001b[39m\u001b[39m.\u001b[39margs \u001b[39mfor\u001b[39;00m var \u001b[39min\u001b[39;00m arg\u001b[39m.\u001b[39;49mvariables()])\n",
      "    \u001b[0;31m[... skipping similar frames: <listcomp> at line 53 (2 times), Canonical.variables at line 53 (2 times)]\u001b[0m\n",
      "File \u001b[0;32m/opt/anaconda3/envs/py309/lib/python3.9/site-packages/cvxpy/utilities/canonical.py:53\u001b[0m, in \u001b[0;36mCanonical.variables\u001b[0;34m(self)\u001b[0m\n\u001b[1;32m     49\u001b[0m \u001b[39mdef\u001b[39;00m \u001b[39mvariables\u001b[39m(\u001b[39mself\u001b[39m):\n\u001b[1;32m     50\u001b[0m \u001b[39m    \u001b[39m\u001b[39m\"\"\"Returns all the variables present in the arguments.\u001b[39;00m\n\u001b[1;32m     51\u001b[0m \u001b[39m    \"\"\"\u001b[39;00m\n\u001b[1;32m     52\u001b[0m     \u001b[39mreturn\u001b[39;00m unique_list(\n\u001b[0;32m---> 53\u001b[0m         [var \u001b[39mfor\u001b[39;00m arg \u001b[39min\u001b[39;00m \u001b[39mself\u001b[39m\u001b[39m.\u001b[39margs \u001b[39mfor\u001b[39;00m var \u001b[39min\u001b[39;00m arg\u001b[39m.\u001b[39mvariables()])\n",
      "File \u001b[0;32m/opt/anaconda3/envs/py309/lib/python3.9/site-packages/cvxpy/utilities/canonical.py:53\u001b[0m, in \u001b[0;36m<listcomp>\u001b[0;34m(.0)\u001b[0m\n\u001b[1;32m     49\u001b[0m \u001b[39mdef\u001b[39;00m \u001b[39mvariables\u001b[39m(\u001b[39mself\u001b[39m):\n\u001b[1;32m     50\u001b[0m \u001b[39m    \u001b[39m\u001b[39m\"\"\"Returns all the variables present in the arguments.\u001b[39;00m\n\u001b[1;32m     51\u001b[0m \u001b[39m    \"\"\"\u001b[39;00m\n\u001b[1;32m     52\u001b[0m     \u001b[39mreturn\u001b[39;00m unique_list(\n\u001b[0;32m---> 53\u001b[0m         [var \u001b[39mfor\u001b[39;00m arg \u001b[39min\u001b[39;00m \u001b[39mself\u001b[39m\u001b[39m.\u001b[39margs \u001b[39mfor\u001b[39;00m var \u001b[39min\u001b[39;00m arg\u001b[39m.\u001b[39;49mvariables()])\n",
      "File \u001b[0;32m/opt/anaconda3/envs/py309/lib/python3.9/site-packages/cvxpy/utilities/canonical.py:52\u001b[0m, in \u001b[0;36mCanonical.variables\u001b[0;34m(self)\u001b[0m\n\u001b[1;32m     49\u001b[0m \u001b[39mdef\u001b[39;00m \u001b[39mvariables\u001b[39m(\u001b[39mself\u001b[39m):\n\u001b[1;32m     50\u001b[0m \u001b[39m    \u001b[39m\u001b[39m\"\"\"Returns all the variables present in the arguments.\u001b[39;00m\n\u001b[1;32m     51\u001b[0m \u001b[39m    \"\"\"\u001b[39;00m\n\u001b[0;32m---> 52\u001b[0m     \u001b[39mreturn\u001b[39;00m unique_list(\n\u001b[1;32m     53\u001b[0m         [var \u001b[39mfor\u001b[39;49;00m arg \u001b[39min\u001b[39;49;00m \u001b[39mself\u001b[39;49m\u001b[39m.\u001b[39;49margs \u001b[39mfor\u001b[39;49;00m var \u001b[39min\u001b[39;49;00m arg\u001b[39m.\u001b[39;49mvariables()])\n",
      "File \u001b[0;32m/opt/anaconda3/envs/py309/lib/python3.9/site-packages/cvxpy/utilities/deterministic.py:7\u001b[0m, in \u001b[0;36munique_list\u001b[0;34m(duplicates_list)\u001b[0m\n\u001b[1;32m      2\u001b[0m \u001b[39m\u001b[39m\u001b[39m\"\"\"\u001b[39;00m\n\u001b[1;32m      3\u001b[0m \u001b[39mReturn unique list preserving the order.\u001b[39;00m\n\u001b[1;32m      4\u001b[0m \u001b[39mhttps://stackoverflow.com/a/480227\u001b[39;00m\n\u001b[1;32m      5\u001b[0m \u001b[39m\"\"\"\u001b[39;00m\n\u001b[1;32m      6\u001b[0m used \u001b[39m=\u001b[39m \u001b[39mset\u001b[39m()\n\u001b[0;32m----> 7\u001b[0m unique \u001b[39m=\u001b[39m [x \u001b[39mfor\u001b[39;00m x \u001b[39min\u001b[39;00m duplicates_list \u001b[39mif\u001b[39;00m \u001b[39mnot\u001b[39;00m (x \u001b[39min\u001b[39;00m used \u001b[39mor\u001b[39;00m used\u001b[39m.\u001b[39madd(x))]\n\u001b[1;32m      8\u001b[0m \u001b[39mreturn\u001b[39;00m unique\n",
      "\u001b[0;31mKeyboardInterrupt\u001b[0m: "
     ]
    }
   ],
   "source": [
    "history = JS.run(xi,xf,x0,u0,Q0,Y0,K0)"
   ]
  },
  {
   "cell_type": "code",
   "execution_count": null,
   "metadata": {},
   "outputs": [],
   "source": [
    "import pypickle\n",
    "name = \"model_\" + str(type_model) + \"_history\"\n",
    "filepath = '/Users/taewankim/Documents/Code/ForPapers/2022_IJRNC_joint_synthesis/data/'+name+'.pkl'\n",
    "status = pypickle.save(filepath, history)"
   ]
  },
  {
   "cell_type": "code",
   "execution_count": null,
   "metadata": {},
   "outputs": [],
   "source": [
    "del_traj_list = [history[i]['traj_diff'] for i in range(len(history))]\n",
    "del_funl_list = [history[i]['funl_diff'] for i in range(len(history))]\n",
    "vc_list = [history[i]['vc'] for i in range(len(history))]\n",
    "dyn_error_list = [history[i]['dyn_error'] for i in range(len(history))]"
   ]
  },
  {
   "cell_type": "code",
   "execution_count": null,
   "metadata": {},
   "outputs": [],
   "source": [
    "i_index = np.array([i+1 for i in range(len(history))])\n",
    "fS = 20\n",
    "plt.figure(figsize=(15,8))\n",
    "plt.subplot(221)\n",
    "plt.plot(i_index,vc_list,'o-')\n",
    "plt.plot(i_index,i_index*0+tol_vc,'--')\n",
    "# plt.xlabel('iteration number',fontsize=fS,fontname='Times New Roman')\n",
    "plt.ylabel(r'$\\Delta_{vc}$',fontsize=fS,fontname='Times New Roman')\n",
    "plt.yscale('log')\n",
    "# plt.ylim([10**(-6), 10**(4)])\n",
    "plt.grid(True)\n",
    "plt.xticks(fontsize=15)\n",
    "plt.yticks(fontsize=15)\n",
    "\n",
    "plt.subplot(222)\n",
    "plt.plot(i_index,dyn_error_list,'o-')\n",
    "plt.plot(i_index,i_index*0+tol_dyn,'--',label='tolerance')\n",
    "# plt.xlabel('iteration number',fontsize=fS,fontname='Times New Roman')\n",
    "plt.ylabel(r'$\\Delta_{dyn}$',fontsize=fS,fontname='Times New Roman')\n",
    "plt.yscale('log')\n",
    "# plt.ylim([10**(-6), 10**(4)])\n",
    "plt.grid(True)\n",
    "plt.xticks(fontsize=15)\n",
    "plt.yticks(fontsize=15)\n",
    "plt.legend(fontsize=fS)\n",
    "\n",
    "\n",
    "plt.subplot(223)\n",
    "plt.plot(i_index,del_traj_list,'o-')\n",
    "plt.plot(i_index,i_index*0+tol_traj,'--')\n",
    "plt.xlabel('iteration number',fontsize=fS,fontname='Times New Roman')\n",
    "plt.ylabel(r'$\\Delta_T$',fontsize=fS,fontname='Times New Roman')\n",
    "plt.yscale('log')\n",
    "# plt.ylim([10**(-6), 10**(4)])\n",
    "plt.grid(True)\n",
    "plt.xticks(fontsize=15)\n",
    "plt.yticks(fontsize=15)\n",
    "\n",
    "plt.subplot(224)\n",
    "plt.plot(i_index,del_funl_list,'o-')\n",
    "plt.plot(i_index,i_index*0+tol_funl,'--')\n",
    "plt.xlabel('iteration number',fontsize=fS,fontname='Times New Roman')\n",
    "plt.ylabel(r'$\\Delta_F$',fontsize=fS,fontname='Times New Roman')\n",
    "plt.yscale('log')\n",
    "# plt.ylim([10**(-6), 10**(4)])\n",
    "plt.xticks(fontsize=15)\n",
    "plt.yticks(fontsize=15)\n",
    "plt.rcParams[\"font.family\"] = \"Times New Roman\"\n",
    "plt.grid(True)\n",
    "\n",
    "\n",
    "# plt.savefig('../images/unicycle/convergence_result.pdf')"
   ]
  },
  {
   "cell_type": "markdown",
   "metadata": {},
   "source": [
    "# Computational time"
   ]
  },
  {
   "cell_type": "code",
   "execution_count": null,
   "metadata": {},
   "outputs": [],
   "source": [
    "time_derivs = []\n",
    "time_trajopt = []\n",
    "time_funlopt = []\n",
    "time_lipschitz = []\n",
    "\n",
    "for his in history[1:] :\n",
    "    time_derivs.append(his['t_derivs'])\n",
    "    time_trajopt.append(his['t_trajopt'])\n",
    "    time_funlopt.append(his['t_funlopt'])\n",
    "    time_lipschitz.append(his['t_Lipschitz'])\n",
    "def mean_list(l) :\n",
    "    return sum(l)/len(l)\n",
    "mean_derivs = mean_list(time_derivs)\n",
    "mean_trajopt = mean_list(time_trajopt)\n",
    "mean_funlopt = mean_list(time_funlopt)\n",
    "mean_lipschitz = mean_list(time_lipschitz)\n",
    "print(\"mean_derivs\",mean_derivs)\n",
    "print(\"mean_trajopt\",mean_trajopt)\n",
    "print(\"mean_funlopt\",mean_funlopt)\n",
    "print(\"mean_lipschitz\",mean_lipschitz)"
   ]
  },
  {
   "cell_type": "markdown",
   "metadata": {},
   "source": [
    "# Evaluate the generated traj and funl"
   ]
  },
  {
   "cell_type": "code",
   "execution_count": null,
   "metadata": {},
   "outputs": [],
   "source": [
    "from utils.utils_alg import forward_full_with_K,get_sample_trajectory\n",
    "import scipy"
   ]
  },
  {
   "cell_type": "code",
   "execution_count": null,
   "metadata": {},
   "outputs": [],
   "source": [
    "xbar = history[-1]['x']\n",
    "ubar = history[-1]['u']\n",
    "Qbar = history[-1]['Q']\n",
    "Ybar = history[-1]['Y']\n",
    "Kbar = history[-1]['K']\n",
    "gammabar = history[-1]['gamma']"
   ]
  },
  {
   "cell_type": "code",
   "execution_count": null,
   "metadata": {},
   "outputs": [],
   "source": [
    "fS = 15\n",
    "plt.figure(0,figsize=(15,7))\n",
    "plot_traj_set(xbar,ubar,c_list,H_list,Qbar,xi=xi,xf=xf,Qi=Qini,Qf=Qf,plt=plt)\n",
    "plt.legend(fontsize=fS)\n",
    "plt.rcParams[\"font.family\"] = \"Times New Roman\"\n",
    "plt.axis([-1.0, 9.0, -1.0, 5.0])"
   ]
  },
  {
   "cell_type": "code",
   "execution_count": null,
   "metadata": {},
   "outputs": [],
   "source": [
    "\n",
    "fS = 20\n",
    "plt.figure(0,figsize=(15,5))\n",
    "alpha = 1.0\n",
    "t_index = np.array(range(N+1))*delT\n",
    "plt.subplot(121)\n",
    "plt.step(t_index, [*ubar[:N,0],ubar[N-1,0]],'--',color='tab:orange',alpha=1.0,where='post',linewidth=2.0,label='nominal')\n",
    "plt.plot(1e3, 1e3,'-',color='tab:purple',alpha=1.0,linewidth=1.0,label='samples')\n",
    "plt.xlabel('time (s)', fontsize = fS)\n",
    "plt.ylabel('$u_v$ (m/s)', fontsize = fS)\n",
    "plt.xticks(fontsize=15)\n",
    "plt.yticks(fontsize=15)\n",
    "plt.axis([0.0, tf, -0.5, 3.5])\n",
    "plt.grid(True)\n",
    "plt.subplot(122)\n",
    "plt.step(t_index, [*ubar[:N,1],ubar[N-1,1]],'--',color='tab:orange',alpha=1.0,where='post',linewidth=2.0,label='nominal')\n",
    "plt.plot(1e3, 1e3,'-',color='tab:purple',alpha=1.0,linewidth=1.0,label='samples')\n",
    "plt.xlabel('time (s)', fontsize = fS)\n",
    "plt.ylabel('$u_{\\Theta}$ (rad/s)', fontsize = fS)\n",
    "plt.xticks(fontsize=15)\n",
    "plt.yticks(fontsize=15)\n",
    "plt.axis([0.0, tf, -3, 3])\n",
    "plt.legend(fontsize=fS)\n",
    "plt.rcParams[\"font.family\"] = \"Times New Roman\"\n",
    "plt.grid(True)\n"
   ]
  },
  {
   "cell_type": "markdown",
   "metadata": {},
   "source": [
    "# comparison with linear case"
   ]
  },
  {
   "cell_type": "code",
   "execution_count": null,
   "metadata": {},
   "outputs": [],
   "source": [
    "traj_solver= trajopt('unicycle',N,tf,max_iter_trajopt,myModel,myCost,myConst,Scaling=traj_scaling,\n",
    "              w_c=1,w_vc=1e3,w_tr=1e-1,tol_vc=1e-6,tol_tr=1e-4,tol_dyn=1e-3,verbosity=False)\n",
    "\n",
    "funl_solver = funlopt('unicycle',ix,iu,iq,ip,iw,N,funl_scaling,\n",
    "                      alpha=alpha,\n",
    "                      lambda_mu=lambda_mu,\n",
    "                      w_tr=funl_w_tr,\n",
    "                      flag_nonlinearity=False)\n",
    "# funl_solver.cvx_initialize(Qini,Qf)\n",
    "funl_solver.cvx_initialize(Qini,Qf,num_const_state=len(c_list),num_const_input=4)\n",
    "lip_estimator = Lipschitz('unicycle',ix,iu,iq,ip,iw,N,num_sample=100,flag_uniform=True)\n",
    "\n",
    "from jointsynthesis import jointsynthesis\n",
    "JS = jointsynthesis(myModel,traj_solver,funl_solver,lip_estimator,total_iter,\n",
    "                   tol_traj,tol_funl,tol_vc,tol_dyn,verbosity=True)"
   ]
  },
  {
   "cell_type": "code",
   "execution_count": null,
   "metadata": {},
   "outputs": [],
   "source": [
    "history_linear = JS.run(xi,xf,x0,u0,Q0,Y0,K0)"
   ]
  },
  {
   "cell_type": "code",
   "execution_count": null,
   "metadata": {},
   "outputs": [],
   "source": [
    "import pypickle\n",
    "name = \"model_\" + str(type_model) + \"_history_linear\"\n",
    "filepath = '/Users/taewankim/Documents/Code/ForPapers/2022_IJRNC_joint_synthesis/data/'+name+'.pkl'\n",
    "status = pypickle.save(filepath, history_linear)"
   ]
  },
  {
   "cell_type": "code",
   "execution_count": null,
   "metadata": {},
   "outputs": [],
   "source": [
    "xbar_linear = history_linear[-1]['x']\n",
    "ubar_linear = history_linear[-1]['u']\n",
    "Qbar_linear = history_linear[-1]['Q']\n",
    "Ybar_linear = history_linear[-1]['Y']\n",
    "Kbar_linear = history_linear[-1]['K']"
   ]
  },
  {
   "cell_type": "code",
   "execution_count": null,
   "metadata": {},
   "outputs": [],
   "source": [
    "fS = 20\n",
    "plt.figure(0,figsize=(15,7))\n",
    "plot_comparison(xbar,xbar_linear,c_list,H_list,Qbar,Qbar_linear,xi=xi,xf=xf,Qi=Qini,Qf=Qf,plt=plt,fS=fS)\n",
    "plt.legend(fontsize=fS)\n",
    "plt.grid(True)\n",
    "plt.rcParams[\"font.family\"] = \"Times New Roman\"\n",
    "plt.axis([-1.0, 9.0, -1.0, 5.0])\n",
    "plt.xticks(fontsize=15)\n",
    "plt.yticks(fontsize=15)\n",
    "# plt.savefig('../images/unicycle/traj_result.pdf')"
   ]
  },
  {
   "cell_type": "markdown",
   "metadata": {},
   "source": [
    "# Sample from initial set"
   ]
  },
  {
   "cell_type": "code",
   "execution_count": null,
   "metadata": {},
   "outputs": [],
   "source": [
    "x0_sample = []\n",
    "num_sample = 100\n",
    "for i in range(num_sample) :\n",
    "    z = np.random.randn(ix)\n",
    "    z = z / np.linalg.norm(z)\n",
    "    # z = np.array([0,1,0])\n",
    "    x_s = xbar[0] + scipy.linalg.sqrtm(Qbar[0])@z\n",
    "    x0_sample.append(x_s)\n",
    "    \n",
    "tsam,xsam,usam,wsam,xsamp = get_sample_trajectory(xi,x0_sample,xbar,ubar,Qbar,Ybar,myModel,N,ix,iu,iw,delT,\n",
    "                                            flag_noise=True)"
   ]
  },
  {
   "cell_type": "code",
   "execution_count": null,
   "metadata": {},
   "outputs": [],
   "source": [
    "fS = 20\n",
    "plt.figure(0,figsize=(15,5))\n",
    "alpha = 1.0\n",
    "t_index = np.array(range(N+1))*delT\n",
    "for i in range(num_sample) :\n",
    "    tsam_e = tsam[i]\n",
    "    xsam_e = xsam[i]\n",
    "    usam_e = usam[i]\n",
    "#     plot_state_input(tsam_e,xsam_e,usam_e,None,None,N,delT,alpha,plt,flag_step=False)\n",
    "\n",
    "    plt.subplot(121)\n",
    "    plt.plot(tsam_e, usam_e[:,0],color='tab:purple',alpha=alpha,linewidth=2.0)\n",
    "    plt.subplot(122)\n",
    "    plt.plot(tsam_e, usam_e[:,1],color='tab:purple',alpha=alpha,linewidth=2.0)\n",
    "plt.subplot(121)\n",
    "plt.plot(tsam_e, usam_e[:,0]*0+myConst.vmax,'-.',color='tab:red',alpha=1.0,linewidth=2.0,label='limit')\n",
    "plt.plot(tsam_e, usam_e[:,0]*0+myConst.vmin,'-.',color='tab:red',alpha=1.0,linewidth=2.0)\n",
    "plt.step(t_index, [*ubar[:N,0],ubar[N-1,0]],'--',color='tab:orange',alpha=1.0,where='post',linewidth=2.0,label='nominal')\n",
    "plt.plot(1e3, 1e3,'-',color='tab:purple',alpha=1.0,linewidth=1.0,label='samples')\n",
    "plt.xlabel('time (s)', fontsize = fS)\n",
    "plt.ylabel('$u_v$ (m/s)', fontsize = fS)\n",
    "plt.xticks(fontsize=15)\n",
    "plt.yticks(fontsize=15)\n",
    "plt.axis([0.0, tf, -0.5, 3.5])\n",
    "plt.grid(True)\n",
    "plt.subplot(122)\n",
    "plt.plot(tsam_e, usam_e[:,1]*0+myConst.wmax,'-.',color='tab:red',alpha=1.0,linewidth=2.0)\n",
    "plt.plot(tsam_e, usam_e[:,1]*0+myConst.wmin,'-.',color='tab:red',alpha=1.0,linewidth=2.0,label='limit')\n",
    "plt.step(t_index, [*ubar[:N,1],ubar[N-1,1]],'--',color='tab:orange',alpha=1.0,where='post',linewidth=2.0,label='nominal')\n",
    "plt.plot(1e3, 1e3,'-',color='tab:purple',alpha=1.0,linewidth=1.0,label='samples')\n",
    "plt.xlabel('time (s)', fontsize = fS)\n",
    "plt.ylabel('$u_{\\Theta}$ (rad/s)', fontsize = fS)\n",
    "plt.xticks(fontsize=15)\n",
    "plt.yticks(fontsize=15)\n",
    "plt.axis([0.0, tf, -3, 3])\n",
    "plt.legend(fontsize=fS)\n",
    "plt.rcParams[\"font.family\"] = \"Times New Roman\"\n",
    "plt.grid(True)\n",
    "# plt.savefig('../images/unicycle/input_result.pdf')\n"
   ]
  },
  {
   "cell_type": "code",
   "execution_count": null,
   "metadata": {},
   "outputs": [],
   "source": [
    "fS = 20\n",
    "plt.figure(0,figsize=(15,7))\n",
    "plot_traj_set(xbar,ubar,c_list,H_list,Qbar,xi=xi,xf=xf,Qi=Qini,Qf=Qf,plt=plt,flag_label=True,fS=fS)\n",
    "# for xsam_e in xsam :\n",
    "for xsam_e in xsamp :\n",
    "    plt.plot(xsam_e[:,0], xsam_e[:,1],'o-',markersize=3.0, linewidth=1.0,alpha=1.0,color='tab:purple')\n",
    "plt.plot(1e3,1e3,'o-',color='tab:purple',label='samples')\n",
    "# plt.plot(xnom[:,0],xnom[:,1],'-.',color='tab:brown',label='traj w/o funnel')\n",
    "plt.legend(fontsize=fS)\n",
    "plt.grid(True)\n",
    "plt.rcParams[\"font.family\"] = \"Times New Roman\"\n",
    "plt.axis([-1.0, 9.0, -1.0, 5.0])\n",
    "plt.xticks(fontsize=15)\n",
    "plt.yticks(fontsize=15)\n",
    "# plt.savefig('../images/traj_result_new.pdf')"
   ]
  },
  {
   "cell_type": "code",
   "execution_count": null,
   "metadata": {},
   "outputs": [],
   "source": [
    "fS = 20\n",
    "plt.figure(0,figsize=(10,5))\n",
    "alpha = 0.5\n",
    "t_index = np.array(range(N+1))*delT\n",
    "for i in range(num_sample) :\n",
    "    tsam_e = tsam[i]\n",
    "    xsam_e = xsam[i]\n",
    "    wsam_e = wsam[i]\n",
    "#     plot_state_input(tsam_e,xsam_e,usam_e,None,None,N,delT,alpha,plt,flag_step=False)\n",
    "    plt.subplot(121)\n",
    "    plt.plot(tsam_e, wsam_e[:,0],color='tab:purple',alpha=alpha,linewidth=1.0)\n",
    "    plt.subplot(122)\n",
    "    plt.plot(tsam_e, wsam_e[:,1],color='tab:purple',alpha=alpha,linewidth=1.0)\n",
    "plt.subplot(121)\n",
    "plt.plot(1e3, 1e3,'-',color='tab:purple',alpha=1.0,linewidth=1.0,label='samples')\n",
    "plt.xlabel('time (s)', fontsize = fS)\n",
    "plt.ylabel('w1 (m)', fontsize = fS)\n",
    "plt.axis([0.0, tf, -2, 2])\n",
    "plt.subplot(122)\n",
    "plt.plot(1e3, 1e3,'-',color='tab:purple',alpha=1.0,linewidth=1.0,label='samples')\n",
    "plt.xlabel('time (s)', fontsize = fS)\n",
    "plt.ylabel('w2 (m)', fontsize = fS)\n",
    "plt.axis([0.0, tf, -2, 2])\n",
    "plt.legend(fontsize=fS)\n",
    "plt.rcParams[\"font.family\"] = \"Times New Roman\"\n",
    "# plt.savefig('../images/disturbance.pdf')"
   ]
  },
  {
   "cell_type": "code",
   "execution_count": null,
   "metadata": {},
   "outputs": [],
   "source": [
    "fS = 15\n",
    "plt.figure(0,figsize=(4,4))\n",
    "plot_traj_set(xbar,ubar,c_list,H_list,Qbar,xi=xi,xf=xf,Qi=Qini,Qf=Qf,plt=plt,flag_label=False)\n",
    "for xsam_e in xsamp :\n",
    "    plt.plot(xsam_e[:,0], xsam_e[:,1],'o',markersize=1.0, linewidth=1.0,alpha=1.0,color='tab:purple')\n",
    "plt.plot(1e3,1e3,'o-',color='tab:purple',label='samples')\n",
    "# plt.plot(xnom[:,0],xnom[:,1],'-.',color='tab:brown',label='traj w/o funnel')\n",
    "# plt.legend(fontsize=fS)\n",
    "plt.grid(True)\n",
    "plt.rcParams[\"font.family\"] = \"Times New Roman\"\n",
    "plt.axis([3.7, 5.7, 1.5, 3.5])\n",
    "plt.axis('off')\n",
    "# plt.savefig('../images/traj_result_new_expansion.pdf')"
   ]
  },
  {
   "cell_type": "code",
   "execution_count": null,
   "metadata": {},
   "outputs": [],
   "source": [
    "fS = 15\n",
    "plt.figure(0,figsize=(15,7))\n",
    "plot_traj_set(xbar,ubar,c_list,H_list,Qbar,xi=xi,xf=xf,Qi=Qini,Qf=Qf,plt=plt,flag_label=True)\n",
    "for xsam_e in xsamp :\n",
    "    plt.plot(xsam_e[:,0], xsam_e[:,1],'o',markersize=3.0, linewidth=1.0,alpha=1.0,color='tab:purple')\n",
    "#     plt.plot(xsam_e[1,0], xsam_e[1,1],'o',markersize=3.0, linewidth=1.0,alpha=1.0,color='tab:purple')\n",
    "plt.plot(1e3,1e3,'o-',color='tab:purple',label='samples')\n",
    "# plt.plot(xnom[:,0],xnom[:,1],'-.',color='tab:brown',label='traj w/o funnel')\n",
    "# plt.legend(fontsize=fS)\n",
    "plt.grid(True)\n",
    "plt.rcParams[\"font.family\"] = \"Times New Roman\"\n",
    "plt.axis([-1, 1, -1, 1])\n",
    "# plt.savefig('../images/traj_result.pdf')"
   ]
  },
  {
   "cell_type": "code",
   "execution_count": null,
   "metadata": {},
   "outputs": [],
   "source": [
    "fS = 15\n",
    "plt.figure(0,figsize=(15,7))\n",
    "plot_traj_set(xbar,ubar,c_list,H_list,Qbar,xi=xi,xf=xf,Qi=Qini,Qf=Qf,plt=plt,flag_label=True)\n",
    "for xsam_e in xsamp :\n",
    "    plt.plot(xsam_e[:,0], xsam_e[:,1],'o',markersize=3.0, linewidth=1.0,alpha=1.0,color='tab:purple')\n",
    "#     plt.plot(xsam_e[1,0], xsam_e[1,1],'o',markersize=3.0, linewidth=1.0,alpha=1.0,color='tab:purple')\n",
    "plt.plot(1e3,1e3,'o-',color='tab:purple',label='samples')\n",
    "# plt.plot(xnom[:,0],xnom[:,1],'-.',color='tab:brown',label='traj w/o funnel')\n",
    "# plt.legend(fontsize=fS)\n",
    "plt.grid(True)\n",
    "plt.rcParams[\"font.family\"] = \"Times New Roman\"\n",
    "plt.axis([7, 9, 3, 5])\n",
    "# plt.savefig('../images/traj_result.pdf')"
   ]
  },
  {
   "cell_type": "markdown",
   "metadata": {},
   "source": [
    "# sample from approx funnel"
   ]
  },
  {
   "cell_type": "code",
   "execution_count": null,
   "metadata": {},
   "outputs": [],
   "source": [
    "x0_sample = []\n",
    "for i in range(num_sample) :\n",
    "    z = np.random.randn(ix)\n",
    "    z = z / np.linalg.norm(z)\n",
    "    x_s = xbar_linear[0] + scipy.linalg.sqrtm(Qbar_linear[0])@z\n",
    "    x0_sample.append(x_s)\n",
    "tsam_linear,xsam_linear,usam_linear,wsam_linear,xsamp_linear = get_sample_trajectory(xi,x0_sample,\n",
    "                                                                    xbar_linear,ubar_linear,\n",
    "                                                                    Qbar_linear,Ybar_linear,myModel,N,ix,iu,iw,delT,\n",
    "                                                                    flag_noise=True)"
   ]
  },
  {
   "cell_type": "code",
   "execution_count": null,
   "metadata": {},
   "outputs": [],
   "source": [
    "def get_radii_list(xsamp,xbar,Qbar) :\n",
    "    radii_list = []\n",
    "    for x in xsamp :\n",
    "        radii = np.zeros(N+1)\n",
    "        for i in range(N+1) :\n",
    "            radii[i] = (x[i]-xbar[i]).T@np.linalg.inv(Qbar[i])@(x[i]-xbar[i])\n",
    "            if radii[i] > 1 + 1e-8 :\n",
    "                print(\"invariance violation\",radii[i])\n",
    "        radii_list.append(radii)\n",
    "    return radii_list\n",
    "radii_list = get_radii_list(xsamp,xbar,Qbar)\n",
    "radii_list_linear = get_radii_list(xsamp_linear,xbar_linear,Qbar_linear)"
   ]
  },
  {
   "cell_type": "code",
   "execution_count": null,
   "metadata": {},
   "outputs": [],
   "source": [
    "fS = 20\n",
    "idx_plot = [i for i in range(N+1)]\n",
    "fig, ax = plt.subplots(figsize=[10, 5])\n",
    "for radii in radii_list_linear :\n",
    "    ax.plot(idx_plot,radii,color='tab:brown',alpha=0.9)\n",
    "for radii in radii_list :\n",
    "    ax.plot(idx_plot,radii,'--',color='tab:purple',alpha=0.8)\n",
    "ax.plot(idx_plot,radii*0+1,'-.',color='tab:red',alpha=1.0,label='limit')\n",
    "plt.xlabel('$k$', fontsize = fS)\n",
    "plt.ylabel('$r^Q_k$', fontsize = fS)\n",
    "plt.grid(True)\n",
    "plt.xticks(fontsize=15)\n",
    "plt.yticks(fontsize=15)\n",
    "plt.axis([0,30,-0.2,1.2])\n",
    "plt.plot(1e3,1e3,'--',color='tab:purple',alpha=1.0,label='proposed')\n",
    "plt.plot(1e3,1e3,color='tab:brown',alpha=1.0,label='approx')\n",
    "plt.legend(fontsize=fS)\n",
    "# axins = ax.inset_axes([5, 15, 0.0, 0.6])\n",
    "axins = ax.inset_axes([0.2, 0.05, 0.3, 0.5])\n",
    "\n",
    "for radii in radii_list_linear :\n",
    "    axins.plot(idx_plot,radii,color='tab:brown',alpha=0.9)\n",
    "for radii in radii_list :\n",
    "    axins.plot(idx_plot,radii,'--',color='tab:purple',alpha=0.8)\n",
    "axins.plot(idx_plot,radii*0+1,'-.',color='tab:red',alpha=1.0,label='limit')\n",
    "\n",
    "axins.set_xlim(0.5, 4.5)\n",
    "axins.set_ylim(0.9, 1.1)\n",
    "axins.set_xticklabels([])\n",
    "axins.set_yticklabels([])\n",
    "ax.indicate_inset_zoom(axins, edgecolor=\"black\",linewidth=2.0)\n",
    "plt.grid(True)\n",
    "plt.rcParams[\"font.family\"] = \"Times New Roman\"\n",
    "# plt.savefig('../images/unicycle/invariance_result.pdf')"
   ]
  },
  {
   "cell_type": "markdown",
   "metadata": {},
   "source": [
    "# Search the case of violating the invariance"
   ]
  },
  {
   "cell_type": "code",
   "execution_count": null,
   "metadata": {},
   "outputs": [],
   "source": [
    "from scipy.integrate import solve_ivp\n",
    "def dfdt(t,x,u,w) :\n",
    "    return np.squeeze(myModel.forward_uncertain(x,u,w))\n",
    "\n",
    "num_test = 100\n",
    "for i in range(num_test) :\n",
    "    z = np.random.randn(ix)\n",
    "    z = z / np.linalg.norm(z)\n",
    "    x_s = xbar[0] + scipy.linalg.sqrtm(Qbar[0])@z\n",
    "    \n",
    "    u = ubar[0] + Kbar[0]@(x_s-xbar[0])\n",
    "    \n",
    "    z = np.random.randn(iw)\n",
    "    w = z / np.linalg.norm(z)\n",
    "#     w = np.array([1,0])\n",
    "    \n",
    "    sol = solve_ivp(dfdt,(0,delT),x_s,args=(u,w),max_step=delT/10,method='RK45',rtol=1e-6,atol=1e-10)\n",
    "    \n",
    "    xnew = sol.y[:,-1]\n",
    "    radi_next = (xnew-xbar[1]).T@np.linalg.inv(Qbar[1])@(xnew-xbar[1])\n",
    "    if radi_next > 1 :\n",
    "        print(\"found!\",radi_next)\n",
    "        break\n",
    "    if i == num_test - 1 :\n",
    "        print(\"no case\")\n",
    "        \n",
    "    \n",
    "    "
   ]
  },
  {
   "cell_type": "code",
   "execution_count": null,
   "metadata": {},
   "outputs": [],
   "source": [
    "fS = 15\n",
    "plt.figure(0,figsize=(15,7))\n",
    "plot_traj_set(xbar[0:2],ubar[0:2],c_list,H_list,Qbar[0:2],xi=xi,xf=xf,Qi=Qini,Qf=Qf,plt=plt,flag_label=True)\n",
    "plt.plot(xnew[0], xnew[1],'o',markersize=3.0, linewidth=1.0,alpha=1.0,color='tab:purple')\n",
    "plt.plot(1e3,1e3,'o-',color='tab:purple',label='samples')\n",
    "plt.grid(True)\n",
    "plt.rcParams[\"font.family\"] = \"Times New Roman\"\n",
    "plt.axis([-1, 1, -1, 1])"
   ]
  },
  {
   "cell_type": "code",
   "execution_count": null,
   "metadata": {},
   "outputs": [],
   "source": []
  }
 ],
 "metadata": {
  "kernelspec": {
   "display_name": "Python 3 (ipykernel)",
   "language": "python",
   "name": "python3"
  },
  "language_info": {
   "codemirror_mode": {
    "name": "ipython",
    "version": 3
   },
   "file_extension": ".py",
   "mimetype": "text/x-python",
   "name": "python",
   "nbconvert_exporter": "python",
   "pygments_lexer": "ipython3",
   "version": "3.9.18"
  }
 },
 "nbformat": 4,
 "nbformat_minor": 4
}
