{
 "cells": [
  {
   "cell_type": "code",
   "execution_count": 1,
   "metadata": {},
   "outputs": [],
   "source": [
    "import matplotlib.pyplot as plt\n",
    "%matplotlib inline\n",
    "%load_ext autoreload\n",
    "%autoreload 2\n",
    "import numpy as np\n",
    "import simpy as sp\n",
    "import time\n",
    "import random\n",
    "def print_np(x):\n",
    "    print (\"Type is %s\" % (type(x)))\n",
    "    print (\"Shape is %s\" % (x.shape,))\n",
    "#     print (\"Values are: \\n%s\" % (x))"
   ]
  },
  {
   "cell_type": "code",
   "execution_count": 2,
   "metadata": {},
   "outputs": [],
   "source": [
    "from sympy import symbols, Matrix\n",
    "from sympy.matrices import Matrix, eye, zeros, ones, diag, GramSchmidt\n",
    "from sympy import simplify, cos, sin, atan2, asin, exp, tan\n",
    "\n",
    "def dir_cosine(q):\n",
    "        return Matrix([\n",
    "            [1 - 2 * (q[2] ** 2 + q[3] ** 2), 2 * (q[1] * q[2] +\n",
    "                                                   q[0] * q[3]), 2 * (q[1] * q[3] - q[0] * q[2])],\n",
    "            [2 * (q[1] * q[2] - q[0] * q[3]), 1 - 2 *\n",
    "             (q[1] ** 2 + q[3] ** 2), 2 * (q[2] * q[3] + q[0] * q[1])],\n",
    "            [2 * (q[1] * q[3] + q[0] * q[2]), 2 * (q[2] * q[3] -\n",
    "                                                   q[0] * q[1]), 1 - 2 * (q[1] ** 2 + q[2] ** 2)]\n",
    "        ])\n",
    "\n",
    "def omega(w):\n",
    "        return Matrix([\n",
    "            [0, -w[0], -w[1], -w[2]],\n",
    "            [w[0], 0, w[2], -w[1]],\n",
    "            [w[1], -w[2], 0, w[0]],\n",
    "            [w[2], w[1], -w[0], 0],\n",
    "        ])\n",
    "\n",
    "def skew(v):\n",
    "    return Matrix([\n",
    "            [0, -v[2], v[1]],\n",
    "            [v[2], 0, -v[0]],\n",
    "            [-v[1], v[0], 0]\n",
    "        ])\n",
    "\n",
    "def get_R_from_euler(e) :\n",
    "    phi = e[0]\n",
    "    theta = e[1]\n",
    "    psi = e[2]\n",
    "\n",
    "    C_B_I = zeros(3,3)\n",
    "    C_B_I[0,0] = cos(psi) * cos(theta)\n",
    "    C_B_I[0,1] = sin(psi) * cos(theta)\n",
    "    C_B_I[0,2] = -sin(theta)\n",
    "    C_B_I[1,0] = -sin(psi)*cos(phi) + cos(psi)*sin(theta)*sin(phi)\n",
    "    C_B_I[1,1] = cos(psi)*cos(phi) + sin(psi)*sin(theta)*sin(phi)\n",
    "    C_B_I[1,2] = cos(theta)*sin(phi)\n",
    "    C_B_I[2,0] = sin(psi)*sin(phi) + cos(psi)*sin(theta)*cos(phi)\n",
    "    C_B_I[2,1] = -cos(psi)*sin(phi)+sin(psi)*sin(theta)*cos(phi)\n",
    "    C_B_I[2,2] = cos(theta)*cos(phi)\n",
    "\n",
    "    return C_B_I"
   ]
  },
  {
   "cell_type": "code",
   "execution_count": 3,
   "metadata": {},
   "outputs": [],
   "source": [
    "J,m = symbols('J, m',positive=True)\n",
    "x = Matrix(symbols(\n",
    "    'X Y Z U V W phi theta psi p q r', real=True))\n",
    "u = Matrix(symbols('T1 T2 T3 M1 M2 M3', real=True))\n",
    "f = zeros(12, 1)\n",
    "ix = 12\n",
    "iu = 6"
   ]
  },
  {
   "cell_type": "code",
   "execution_count": 4,
   "metadata": {},
   "outputs": [],
   "source": [
    "X = x[0,0]\n",
    "Y = x[1,0]\n",
    "Z = x[2,0]\n",
    "\n",
    "U = x[3,0]\n",
    "V = x[4,0]\n",
    "W = x[5,0]\n",
    "\n",
    "phi = x[6,0]\n",
    "theta = x[7,0]\n",
    "psi = x[8,0]\n",
    "\n",
    "p = x[9,0]\n",
    "q = x[10,0]\n",
    "r = x[11,0]\n",
    "\n",
    "T1 = u[0,0]\n",
    "T2 = u[1,0]\n",
    "T3 = u[2,0]\n",
    "M1 = u[3,0]\n",
    "M2 = u[4,0]\n",
    "M3 = u[5,0]"
   ]
  },
  {
   "cell_type": "code",
   "execution_count": 5,
   "metadata": {},
   "outputs": [
    {
     "name": "stdout",
     "output_type": "stream",
     "text": [
      "Matrix([[cos(psi)*cos(theta), sin(psi)*cos(theta), -sin(theta)], [sin(phi)*sin(theta)*cos(psi) - sin(psi)*cos(phi), sin(phi)*sin(psi)*sin(theta) + cos(phi)*cos(psi), sin(phi)*cos(theta)], [sin(phi)*sin(psi) + sin(theta)*cos(phi)*cos(psi), -sin(phi)*cos(psi) + sin(psi)*sin(theta)*cos(phi), cos(phi)*cos(theta)]])\n"
     ]
    }
   ],
   "source": [
    "# R_BI = dir_cosine(x[6:10])\n",
    "R_BI = get_R_from_euler(x[6:9])\n",
    "print(R_BI)"
   ]
  },
  {
   "cell_type": "code",
   "execution_count": 20,
   "metadata": {},
   "outputs": [],
   "source": [
    "f[0:3, 0] = x[3:6,0]\n",
    "f[3:6, 0] = 1/m*u[0:3,0]\n",
    "f[6,0] = p + sin(phi) * tan(theta) * q + cos(phi) * tan(theta) * r\n",
    "f[7,0] = cos(phi) * q - sin(phi) * r\n",
    "f[8,0] = sin(phi) / cos(theta) * q + cos(phi) / cos(theta) * r\n",
    "f[9:,0] = 1/J * (u[3:,0] - skew(x[9:,0])*(J*x[9:,0]))"
   ]
  },
  {
   "cell_type": "code",
   "execution_count": 21,
   "metadata": {},
   "outputs": [
    {
     "data": {
      "text/latex": [
       "$\\displaystyle \\left[\\begin{matrix}U\\\\V\\\\W\\\\\\frac{T_{1}}{m}\\\\\\frac{T_{2}}{m}\\\\\\frac{T_{3}}{m}\\\\p + q \\sin{\\left(\\phi \\right)} \\tan{\\left(\\theta \\right)} + r \\cos{\\left(\\phi \\right)} \\tan{\\left(\\theta \\right)}\\\\q \\cos{\\left(\\phi \\right)} - r \\sin{\\left(\\phi \\right)}\\\\\\frac{q \\sin{\\left(\\phi \\right)}}{\\cos{\\left(\\theta \\right)}} + \\frac{r \\cos{\\left(\\phi \\right)}}{\\cos{\\left(\\theta \\right)}}\\\\\\frac{M_{1}}{J}\\\\\\frac{M_{2}}{J}\\\\\\frac{M_{3}}{J}\\end{matrix}\\right]$"
      ],
      "text/plain": [
       "Matrix([\n",
       "[                                                U],\n",
       "[                                                V],\n",
       "[                                                W],\n",
       "[                                             T1/m],\n",
       "[                                             T2/m],\n",
       "[                                             T3/m],\n",
       "[p + q*sin(phi)*tan(theta) + r*cos(phi)*tan(theta)],\n",
       "[                          q*cos(phi) - r*sin(phi)],\n",
       "[    q*sin(phi)/cos(theta) + r*cos(phi)/cos(theta)],\n",
       "[                                             M1/J],\n",
       "[                                             M2/J],\n",
       "[                                             M3/J]])"
      ]
     },
     "execution_count": 21,
     "metadata": {},
     "output_type": "execute_result"
    }
   ],
   "source": [
    "f"
   ]
  },
  {
   "cell_type": "code",
   "execution_count": 18,
   "metadata": {},
   "outputs": [
    {
     "data": {
      "text/latex": [
       "$\\displaystyle \\left[\\begin{matrix}0\\\\0\\\\0\\end{matrix}\\right]$"
      ],
      "text/plain": [
       "Matrix([\n",
       "[0],\n",
       "[0],\n",
       "[0]])"
      ]
     },
     "execution_count": 18,
     "metadata": {},
     "output_type": "execute_result"
    }
   ],
   "source": [
    "skew(x[9:,0])*x[9:,0]"
   ]
  },
  {
   "cell_type": "code",
   "execution_count": 16,
   "metadata": {},
   "outputs": [
    {
     "data": {
      "text/latex": [
       "$\\displaystyle \\left[\\begin{matrix}J p\\\\J q\\\\J r\\end{matrix}\\right]$"
      ],
      "text/plain": [
       "Matrix([\n",
       "[J*p],\n",
       "[J*q],\n",
       "[J*r]])"
      ]
     },
     "execution_count": 16,
     "metadata": {},
     "output_type": "execute_result"
    }
   ],
   "source": [
    "J*x[9:,0]"
   ]
  },
  {
   "cell_type": "code",
   "execution_count": 14,
   "metadata": {},
   "outputs": [
    {
     "data": {
      "text/latex": [
       "$\\displaystyle \\left[\\begin{matrix}0\\\\0\\\\0\\end{matrix}\\right]$"
      ],
      "text/plain": [
       "Matrix([\n",
       "[0],\n",
       "[0],\n",
       "[0]])"
      ]
     },
     "execution_count": 14,
     "metadata": {},
     "output_type": "execute_result"
    }
   ],
   "source": [
    "skew(x[9:,0])*(J*x[9:,0])"
   ]
  },
  {
   "cell_type": "code",
   "execution_count": 19,
   "metadata": {},
   "outputs": [
    {
     "data": {
      "text/latex": [
       "$\\displaystyle \\left[\\begin{matrix}M_{2}\\\\M_{3}\\end{matrix}\\right]$"
      ],
      "text/plain": [
       "Matrix([\n",
       "[M2],\n",
       "[M3]])"
      ]
     },
     "execution_count": 19,
     "metadata": {},
     "output_type": "execute_result"
    }
   ],
   "source": [
    "u[4:,0]"
   ]
  },
  {
   "cell_type": "code",
   "execution_count": null,
   "metadata": {},
   "outputs": [],
   "source": []
  }
 ],
 "metadata": {
  "kernelspec": {
   "display_name": "py309",
   "language": "python",
   "name": "python3"
  },
  "language_info": {
   "codemirror_mode": {
    "name": "ipython",
    "version": 3
   },
   "file_extension": ".py",
   "mimetype": "text/x-python",
   "name": "python",
   "nbconvert_exporter": "python",
   "pygments_lexer": "ipython3",
   "version": "3.9.13"
  }
 },
 "nbformat": 4,
 "nbformat_minor": 2
}
