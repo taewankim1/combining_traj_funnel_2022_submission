{
 "cells": [
  {
   "cell_type": "code",
   "execution_count": 1,
   "metadata": {},
   "outputs": [],
   "source": [
    "import matplotlib.pyplot as plt\n",
    "%matplotlib inline\n",
    "%load_ext autoreload\n",
    "%autoreload 2\n",
    "import numpy as np\n",
    "import time\n",
    "import random\n",
    "def print_np(x):\n",
    "    print (\"Type is %s\" % (type(x)))\n",
    "    print (\"Shape is %s\" % (x.shape,))\n",
    "#     print (\"Values are: \\n%s\" % (x))"
   ]
  },
  {
   "cell_type": "code",
   "execution_count": 2,
   "metadata": {},
   "outputs": [],
   "source": [
    "import os\n",
    "import sys\n",
    "sys.path.append('../')"
   ]
  },
  {
   "cell_type": "code",
   "execution_count": 3,
   "metadata": {},
   "outputs": [],
   "source": [
    "from model import UnicycleModel\n",
    "from cost import UnicycleCost\n",
    "from constraints import UnicycleConstraints\n",
    "from scipy.integrate import solve_ivp\n",
    "from matplotlib.patches import Ellipse\n",
    "from utils.utils_alg import get_neighbor_vec,get_K_discrete\n",
    "from utils.utils_plot import plot_traj,plot_traj_set,plot_state_input\n",
    "from Single_PTR import Single_PTR\n",
    "from PTR import PTR\n",
    "from utils.utils_alg import get_sample_eta_w,propagate_model\n",
    "import cvxpy as cvx\n",
    "from scipy.integrate import solve_ivp\n",
    "from EstimatingLipschitz import Lipschitz\n",
    "from LMI import Q_update"
   ]
  },
  {
   "cell_type": "code",
   "execution_count": 4,
   "metadata": {},
   "outputs": [],
   "source": [
    "ix = 3\n",
    "iu = 2\n",
    "iw = 2\n",
    "iq = 2\n",
    "ip = 2\n",
    "N = 30\n",
    "tf = 3\n",
    "delT = tf/N"
   ]
  },
  {
   "cell_type": "code",
   "execution_count": 5,
   "metadata": {},
   "outputs": [],
   "source": [
    "# time-invariant matrices\n",
    "C = np.array([[0,0,1],[0,0,0]])\n",
    "D = np.array([[0,0],[1,0]])\n",
    "E = np.array([[1,0],[0,1],[0,0]])\n",
    "G = np.zeros((iq,iw))"
   ]
  },
  {
   "cell_type": "markdown",
   "metadata": {},
   "source": [
    "## obstacle setting"
   ]
  },
  {
   "cell_type": "code",
   "execution_count": 6,
   "metadata": {},
   "outputs": [],
   "source": [
    "def get_H_obs(rx,ry) :\n",
    "    return np.diag([1/rx,1/ry])\n",
    "# obstacle\n",
    "c_list = []\n",
    "H_list = []\n",
    "c1 = [1,2]\n",
    "H1 = get_H_obs(0.75,1.5)\n",
    "c_list.append(c1)\n",
    "H_list.append(H1)\n",
    "c2 = [4,3]\n",
    "H2 = get_H_obs(0.75,1.5)\n",
    "c_list.append(c2)\n",
    "H_list.append(H2)"
   ]
  },
  {
   "cell_type": "markdown",
   "metadata": {},
   "source": [
    "## initial and final conditions "
   ]
  },
  {
   "cell_type": "code",
   "execution_count": 7,
   "metadata": {},
   "outputs": [],
   "source": [
    "xi = np.zeros(3)\n",
    "xi[0] = 0.0\n",
    "xi[1] = 0.0 \n",
    "xi[2] = 0\n",
    "\n",
    "xf = np.zeros(3)\n",
    "xf[0] = 5.0\n",
    "xf[1] = 5.0\n",
    "xf[2] = 0\n",
    "\n",
    "Qini = np.diag([0.4**2,0.4**2,np.deg2rad(20)**2])\n",
    "Qf = np.diag([0.5**2,0.5**2,np.deg2rad(20)**2])*1.5\n",
    "\n",
    "\n",
    "\n",
    "myModel = UnicycleModel.unicycle('Hello',ix,iu,iw,'numeric_central')\n",
    "myCost = UnicycleCost.unicycle('Hello',ix,iu,N)\n",
    "myConst = UnicycleConstraints.UnicycleConstraints('Hello',ix,iu)\n",
    "myConst.set_obstacle(c_list,H_list)\n",
    "\n",
    "x0 = np.zeros((N+1,ix))\n",
    "for i in range(N+1) :\n",
    "    x0[i] = (N-i)/N * xi + i/N * xf\n",
    "u0 = np.zeros((N+1,iu))"
   ]
  },
  {
   "cell_type": "code",
   "execution_count": null,
   "metadata": {},
   "outputs": [],
   "source": [
    "A,B,s,z,x_prop_n = myModel.diff_discrete_zoh(x0[0:N,:],u0[0:N,:],delT,tf) \n",
    "S = np.eye(ix)\n",
    "R = 0.1*np.eye(iu)\n",
    "K0 = get_K_discrete(A,B,S,R,S,N,ix,iu)\n",
    "Q0 = np.tile(np.diag([0.35**2,0.35**2,np.deg2rad(10)**2]),(N+1,1,1))\n",
    "Y0 = K0@Q0[:N]\n",
    "betahat = np.ones(N+1)"
   ]
  },
  {
   "cell_type": "code",
   "execution_count": null,
   "metadata": {},
   "outputs": [],
   "source": [
    "plt.figure(1,figsize=(7,7))\n",
    "plot_traj_set(x0,u0,c_list,H_list,Q0,xi=xi,xf=xf,Qi=Qini,Qf=Qf,plt=plt)\n",
    "plt.rcParams[\"font.family\"] = \"Times New Roman\"\n",
    "plt.savefig('../images/first_iteration/initial.pdf')\n",
    "# plt.close()"
   ]
  },
  {
   "cell_type": "markdown",
   "metadata": {},
   "source": [
    "## choose sample points"
   ]
  },
  {
   "cell_type": "code",
   "execution_count": null,
   "metadata": {},
   "outputs": [],
   "source": [
    "num_sample = 100\n",
    "zs_sample = [] # sample in unit sphere will be projected to ellipse (Q_k)\n",
    "zw_sample = [] \n",
    "    \n",
    "# uniformly fixed\n",
    "for i in np.linspace(-1.0, 1.0, num=5) :\n",
    "    for j in np.linspace(-1.0, 1.0, num=5) :\n",
    "        for k in np.linspace(-1.0, 1.0, num=4) :\n",
    "            z = np.array([i,j,k])\n",
    "            zs = z / np.linalg.norm(z)\n",
    "            zs_sample.append(zs)\n",
    "for i in np.linspace(-1.0, 1.0, num=10) :\n",
    "    for j in np.linspace(-1.0, 1.0, num=10) :\n",
    "        z = np.array([i,j])\n",
    "        zw = z / np.linalg.norm(z)\n",
    "        zw_sample.append(zw)"
   ]
  },
  {
   "cell_type": "markdown",
   "metadata": {},
   "source": [
    "## step 1 : Nominal trajectory update (Single PTR)"
   ]
  },
  {
   "cell_type": "code",
   "execution_count": null,
   "metadata": {},
   "outputs": [],
   "source": [
    "xhat,uhat,Qhat,Yhat,Khat = x0,u0,Q0,Y0,K0"
   ]
  },
  {
   "cell_type": "code",
   "execution_count": null,
   "metadata": {},
   "outputs": [],
   "source": [
    "print(\"STEP 1 : Nominal trajectory update\")\n",
    "traj_solver= Single_PTR('unicycle',N,tf,1,myModel,myCost,myConst,\n",
    "          w_c=1,w_vc=1e3,w_tr=1e1,tol_vc=1e-6,tol_tr=1e-4,verbosity=False)\n",
    "_,_,xnew,unew,total_num_iter,flag_boundary,traj_cost,traj_vc,traj_tr = traj_solver.run(xhat,uhat,xi,xf,Qhat,Khat)\n"
   ]
  },
  {
   "cell_type": "code",
   "execution_count": null,
   "metadata": {},
   "outputs": [],
   "source": [
    "plt.figure(0,figsize=(7,7))\n",
    "plot_traj_set(xnew,unew,c_list,H_list,Qhat,xi=xi,xf=xf,Qi=Qini,Qf=Qf,plt=plt)\n",
    "plt.rcParams[\"font.family\"] = \"Times New Roman\"\n",
    "plt.savefig('../images/first_iteration/traj_update.pdf')"
   ]
  },
  {
   "cell_type": "markdown",
   "metadata": {},
   "source": [
    "## Discretization"
   ]
  },
  {
   "cell_type": "code",
   "execution_count": null,
   "metadata": {},
   "outputs": [],
   "source": [
    "# discretization\n",
    "A,B,F,s,z,x_prop_n = myModel.diff_discrete_zoh_noise(xnew,unew,np.zeros((N,iw)),delT,tf) \n",
    "sz = tf*s + z\n",
    "# propagation\n",
    "xprop,_ = traj_solver.forward_multiple(xnew,unew)\n",
    "e_prop = np.linalg.norm(xprop - xnew[1:],axis=1)"
   ]
  },
  {
   "cell_type": "markdown",
   "metadata": {},
   "source": [
    "## step 2 : Estimating $\\gamma$"
   ]
  },
  {
   "cell_type": "code",
   "execution_count": null,
   "metadata": {},
   "outputs": [],
   "source": [
    "print(\"STEP 2 : Lipschitz constant estimation\")\n",
    "myM = Lipschitz(ix,iu,iq,ip,iw,N)\n",
    "myM.initialize(xnew,unew,xprop,Qhat,Khat,A,B,C,D,E,F,G,myModel,zs_sample,zw_sample)\n",
    "gamma = myM.update_lipschitz_norm(myModel,delT)\n",
    "gamma = myM.update_lipschitz_parallel(myModel,delT)\n",
    "print(\"mean of gamma\",np.mean(gamma,0),\"max of gamma\",np.max(gamma,0),\"var of gamma\",np.var(gamma,0))"
   ]
  },
  {
   "cell_type": "markdown",
   "metadata": {},
   "source": [
    "## step 3 : Funnel update"
   ]
  },
  {
   "cell_type": "code",
   "execution_count": null,
   "metadata": {},
   "outputs": [],
   "source": [
    "print(\"STEP 3 : Funnel update via SDP\")\n",
    "funl_solver = Q_update(ix,iu,iq,ip,iw,N,delT,myCost.S,myCost.R,w_tr=1e-1)\n",
    "funl_solver.initialize(xnew,unew,e_prop*0,A,B,C,D,E,F,G)\n",
    "alpha = 0.99\n",
    "Qnew,Knew,Ynew,status,funl_cost = funl_solver.solve(alpha,gamma,Qini,Qf,Qhat,Yhat)\n",
    "print(\"LMI status:\" + status)"
   ]
  },
  {
   "cell_type": "code",
   "execution_count": null,
   "metadata": {},
   "outputs": [],
   "source": [
    "plt.figure(0,figsize=(7,7))\n",
    "plot_traj_set(xnew,unew,c_list,H_list,Qnew,xi=xi,xf=xf,Qi=Qini,Qf=Qf,plt=plt)\n",
    "plt.rcParams[\"font.family\"] = \"Times New Roman\"\n",
    "plt.savefig('../images/first_iteration/funnel_update.pdf')"
   ]
  },
  {
   "cell_type": "code",
   "execution_count": null,
   "metadata": {},
   "outputs": [],
   "source": [
    "print(\"STEP 4 : update beta for invariance\")\n",
    "betanew = funl_solver.update_beta(Qnew,Knew,gamma,alpha)\n",
    "for i in range(N+1) :\n",
    "    Qnew[i] = Qnew[i] * betanew[i]\n",
    "print(\"beta max {:}\".format(np.max(betanew)))"
   ]
  },
  {
   "cell_type": "code",
   "execution_count": null,
   "metadata": {},
   "outputs": [],
   "source": [
    "# plot the trajectory\n",
    "plt.figure(0,figsize=(7,7))\n",
    "plot_traj_set(xnew,unew,c_list,H_list,Qnew,xi=xi,xf=xf,Qi=Qini,Qf=Qf,plt=plt)\n",
    "plt.rcParams[\"font.family\"] = \"Times New Roman\"\n",
    "plt.savefig('../images/first_iteration/beta_update.pdf')"
   ]
  },
  {
   "cell_type": "code",
   "execution_count": null,
   "metadata": {},
   "outputs": [],
   "source": []
  }
 ],
 "metadata": {
  "kernelspec": {
   "display_name": "Python 3",
   "language": "python",
   "name": "python3"
  },
  "language_info": {
   "codemirror_mode": {
    "name": "ipython",
    "version": 3
   },
   "file_extension": ".py",
   "mimetype": "text/x-python",
   "name": "python",
   "nbconvert_exporter": "python",
   "pygments_lexer": "ipython3",
   "version": "3.8.13"
  }
 },
 "nbformat": 4,
 "nbformat_minor": 4
}
