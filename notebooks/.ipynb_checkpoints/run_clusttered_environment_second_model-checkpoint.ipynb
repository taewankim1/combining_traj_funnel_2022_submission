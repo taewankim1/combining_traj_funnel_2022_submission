{
 "cells": [
  {
   "cell_type": "code",
   "execution_count": 1,
   "metadata": {},
   "outputs": [],
   "source": [
    "import matplotlib.pyplot as plt\n",
    "%matplotlib inline\n",
    "%load_ext autoreload\n",
    "%autoreload 2\n",
    "import numpy as np\n",
    "import time\n",
    "import random\n",
    "def print_np(x):\n",
    "    print (\"Type is %s\" % (type(x)))\n",
    "    print (\"Shape is %s\" % (x.shape,))\n",
    "#     print (\"Values are: \\n%s\" % (x))"
   ]
  },
  {
   "cell_type": "code",
   "execution_count": 2,
   "metadata": {},
   "outputs": [],
   "source": [
    "import os\n",
    "import sys\n",
    "sys.path.append('../')"
   ]
  },
  {
   "cell_type": "code",
   "execution_count": 3,
   "metadata": {},
   "outputs": [
    {
     "name": "stdout",
     "output_type": "stream",
     "text": [
      "(CVXPY) Dec 11 09:27:15 PM: Encountered unexpected exception importing solver SCS:\n",
      "ImportError(\"dlopen(/opt/anaconda3/envs/py309/lib/python3.9/site-packages/_scs_direct.cpython-39-darwin.so, 0x0002): Library not loaded: @rpath/liblapack.3.dylib\\n  Referenced from: /opt/anaconda3/envs/py309/lib/python3.9/site-packages/_scs_direct.cpython-39-darwin.so\\n  Reason: tried: '/opt/anaconda3/envs/py309/lib/python3.9/site-packages/../../liblapack.3.dylib' (no such file), '/opt/anaconda3/envs/py309/lib/python3.9/site-packages/../../liblapack.3.dylib' (no such file), '/opt/anaconda3/envs/py309/bin/../lib/liblapack.3.dylib' (no such file), '/opt/anaconda3/envs/py309/bin/../lib/liblapack.3.dylib' (no such file), '/usr/local/lib/liblapack.3.dylib' (no such file), '/usr/lib/liblapack.3.dylib' (no such file)\")\n"
     ]
    }
   ],
   "source": [
    "from model import UnicycleModel\n",
    "from cost import UnicycleCost\n",
    "from constraints import UnicycleConstraints\n",
    "from scipy.integrate import solve_ivp\n",
    "from matplotlib.patches import Ellipse\n",
    "from utils.utils_alg import get_neighbor_vec,get_K_discrete\n",
    "from utils.utils_plot import plot_traj,plot_traj_set,plot_state_input\n",
    "\n",
    "from trajopt import trajopt\n",
    "from funlopt import funlopt\n",
    "from Lipschitz import Lipschitz\n",
    "from Scaling import TrajectoryScaling\n",
    "\n",
    "from utils.utils_alg import get_sample_eta_w,propagate_model\n",
    "import cvxpy as cvx\n",
    "from scipy.integrate import solve_ivp\n",
    "\n"
   ]
  },
  {
   "cell_type": "code",
   "execution_count": 4,
   "metadata": {},
   "outputs": [],
   "source": [
    "N = 30\n",
    "tf = 5\n",
    "delT = tf/N"
   ]
  },
  {
   "cell_type": "markdown",
   "metadata": {},
   "source": [
    "## obstacle setting"
   ]
  },
  {
   "cell_type": "code",
   "execution_count": 5,
   "metadata": {},
   "outputs": [],
   "source": [
    "def get_H_obs(rx,ry) :\n",
    "    return np.diag([1/rx,1/ry])\n",
    "# obstacle\n",
    "c_list = []\n",
    "H_list = []\n",
    "\n",
    "\n",
    "c_list.append([1.8,0.3])\n",
    "H_list.append(get_H_obs(0.5,0.5))\n",
    "\n",
    "c_list.append([2*2/3,3.5])\n",
    "H_list.append(get_H_obs(0.5,0.5))\n",
    "\n",
    "c_list.append([4.2,0.7])\n",
    "H_list.append(get_H_obs(0.5,0.5))\n",
    "c_list.append([3.8,3.5])\n",
    "H_list.append(get_H_obs(0.5,0.5))\n",
    "\n",
    "c_list.append([10*2/3,0.5])\n",
    "H_list.append(get_H_obs(0.5,0.5))\n",
    "c_list.append([6.5,4])\n",
    "H_list.append(get_H_obs(0.5,0.5))\n",
    "\n",
    "\n",
    "\n",
    "c_list.append([4*2/3,1.7])\n",
    "H_list.append(get_H_obs(0.5,0.5))\n",
    "c_list.append([8*2/3,2.3])\n",
    "H_list.append(get_H_obs(0.5,0.5))\n",
    "\n",
    "c_list.append([0.5,2])\n",
    "H_list.append(get_H_obs(0.5,0.5))\n",
    "c_list.append([8,2.3])\n",
    "H_list.append(get_H_obs(0.5,0.5))\n"
   ]
  },
  {
   "cell_type": "markdown",
   "metadata": {},
   "source": [
    "## initial and final conditions "
   ]
  },
  {
   "cell_type": "code",
   "execution_count": 6,
   "metadata": {},
   "outputs": [],
   "source": [
    "myModel = UnicycleModel.unicycle2('unicycle','numeric_central')\n",
    "\n",
    "ix = myModel.ix\n",
    "iu = myModel.iu\n",
    "iw = myModel.iw\n",
    "iq = myModel.iq\n",
    "ip = myModel.ip\n",
    "\n",
    "C = myModel.C\n",
    "D = myModel.D\n",
    "E = myModel.E\n",
    "G = myModel.G\n",
    "\n",
    "myCost = UnicycleCost.unicycle('Hello',ix,iu,N)\n",
    "myConst = UnicycleConstraints.UnicycleConstraints('Hello',ix,iu)\n",
    "myConst.set_obstacle(c_list,H_list)\n",
    "\n"
   ]
  },
  {
   "cell_type": "code",
   "execution_count": 7,
   "metadata": {},
   "outputs": [],
   "source": [
    "xi = np.zeros(3)\n",
    "xi[0] = 0.0\n",
    "xi[1] = 0.0 \n",
    "xi[2] = 0\n",
    "\n",
    "xf = np.zeros(3)\n",
    "xf[0] = 8.0\n",
    "xf[1] = 4.0\n",
    "xf[2] = 0\n",
    "\n",
    "Qini = np.diag([0.4**2,0.4**2,np.deg2rad(20)**2])\n",
    "Qf = np.diag([0.3**2,0.3**2,np.deg2rad(20)**2])\n",
    "\n",
    "x0 = np.zeros((N+1,ix))\n",
    "for i in range(N+1) :\n",
    "    x0[i] = (N-i)/N * xi + i/N * xf\n",
    "u0 = np.zeros((N+1,iu))"
   ]
  },
  {
   "cell_type": "code",
   "execution_count": 8,
   "metadata": {},
   "outputs": [],
   "source": [
    "A,B,s,z,x_prop_n = myModel.diff_discrete_zoh(x0[0:N,:],u0[0:N,:],delT,tf) \n",
    "S = np.eye(ix)\n",
    "R = 1*np.eye(iu)\n",
    "K0 = get_K_discrete(A,B,S,R,S,N,ix,iu)\n",
    "Q0 = np.tile(np.diag([0.35**2,0.35**2,np.deg2rad(10)**2]),(N+1,1,1))\n",
    "Y0 = K0@Q0[:N]\n",
    "betahat = np.ones(N+1)"
   ]
  },
  {
   "cell_type": "code",
   "execution_count": 9,
   "metadata": {},
   "outputs": [],
   "source": [
    "x_max = np.array([10,10,np.pi])\n",
    "x_min = np.zeros(ix)\n",
    "\n",
    "u_max = np.array([5,5]) \n",
    "u_min = np.zeros(iu)\n",
    "\n",
    "traj_scaling = TrajectoryScaling(x_min,x_max,u_min,u_max,tf)\n",
    "\n",
    "x_max = np.array([1,1,np.pi])\n",
    "x_min = np.zeros(ix)\n",
    "\n",
    "u_max = np.array([5,5]) \n",
    "u_min = np.zeros(iu)\n",
    "\n",
    "funl_scaling = TrajectoryScaling(x_min,x_max,u_min,u_max,tf)"
   ]
  },
  {
   "cell_type": "code",
   "execution_count": 10,
   "metadata": {},
   "outputs": [
    {
     "name": "stdout",
     "output_type": "stream",
     "text": [
      "Is DPP?  True\n"
     ]
    }
   ],
   "source": [
    "traj_solver= trajopt('unicycle',N,tf,10,myModel,myCost,myConst,Scaling=traj_scaling,\n",
    "              w_c=1,w_vc=1e3,w_tr=1e0,tol_vc=1e-6,tol_tr=1e-4,tol_dyn=1e-3,verbosity=True)"
   ]
  },
  {
   "cell_type": "code",
   "execution_count": 11,
   "metadata": {
    "scrolled": false
   },
   "outputs": [
    {
     "name": "stdout",
     "output_type": "stream",
     "text": [
      "Set parameter Username\n",
      "Academic license - for non-commercial use only - expires 2023-11-07\n",
      "┌──────────────────────────────────────────────────────────────────────────────────────────────┐\n",
      "\n",
      "│                                              ..:: SCP ::..                                   │\n",
      "\n",
      "├──────┬───────────┬──────────┬─────────┬───────────┬────────────┬─────────┬─────────┬─────────┤\n",
      "\n",
      "│ iter │  total    │ final    │ input   │     -     │ total cost │ vc      │ tr      │ dyn     │\n",
      "\n",
      "│      │  cost     │ time [s] │ energy  │     -     │ reduction  │ (log10) │         │         │\n",
      "\n",
      "├──────┼───────────┼──────────┼─────────┼───────────┼────────────┼─────────┼─────────┼─────────┤\n",
      "\n",
      "│1     │4079.873   │5.000     │76.8     │0          │-4.08e+03   │0(0.60  )│0(3.073 )│0(0.354 )│\n",
      "│2     │85.631     │5.000     │84.5     │0          │3.99e+03    │1(-13.05)│0(1.144 )│0(0.059 )│\n",
      "│3     │104.699    │5.000     │105      │0          │-19.1       │1(-12.29)│0(0.092 )│0(0.004 )│\n",
      "│4     │104.992    │5.000     │105      │0          │-0.292      │1(-12.44)│0(0.004 )│1(0.000 )│\n",
      "│5     │104.803    │5.000     │105      │0          │0.189       │1(-12.63)│0(0.004 )│1(0.000 )│\n",
      "│6     │104.724    │5.000     │105      │0          │0.0792      │1(-13.79)│0(0.000 )│1(0.000 )│\n",
      "│7     │104.725    │5.000     │105      │0          │-0.00128    │1(-13.79)│1(0.000 )│1(0.000 )│\n",
      "├──────┴───────────┴──────────┴─────────┴───────────┴────────────┴─────────┴─────────┴─────────┤\n",
      "\n",
      "│                SUCCEESS: virtual control and trust region < tol                              │\n",
      "\n",
      "└──────────────────────────────────────────────────────────────────────────────────────────────┘\n",
      "\n"
     ]
    }
   ],
   "source": [
    "_,_,xnom,unom,_,total_num_iter,_,_,_,_,history_nom = traj_solver.run(x0,u0,xi,xf)\n",
    "tnom = np.array(range(N+1))*delT"
   ]
  },
  {
   "cell_type": "code",
   "execution_count": 12,
   "metadata": {},
   "outputs": [
    {
     "data": {
      "image/png": "[encoded data removed]",
      "text/plain": [
       "<Figure size 1080x504 with 1 Axes>"
      ]
     },
     "metadata": {
      "needs_background": "light"
     },
     "output_type": "display_data"
    },
    {
     "data": {
      "image/png": "[encoded data removed]",
      "text/plain": [
       "<Figure size 720x288 with 2 Axes>"
      ]
     },
     "metadata": {
      "needs_background": "light"
     },
     "output_type": "display_data"
    }
   ],
   "source": [
    "fS = 15\n",
    "plt.figure(0,figsize=(15,7))\n",
    "plot_traj_set(x0,u0,c_list,H_list,Q0,xi=xi,xf=xf,Qi=Qini,Qf=Qf,plt=plt)\n",
    "plt.plot(xnom[:,0],xnom[:,1],'o-',color='tab:brown',label='traj w/o funnel')\n",
    "plt.axis([-1.0, 9.0, -1.0, 5.0])\n",
    "plt.figure(1,figsize=(10,4))\n",
    "plt.subplot(121)\n",
    "plt.plot(tnom, unom[:,0]*0+myConst.vmax,'-.',color='tab:red',alpha=1.0,linewidth=2.0,label='limit')\n",
    "plt.plot(tnom, unom[:,0]*0+myConst.vmin,'-.',color='tab:red',alpha=1.0,linewidth=2.0)\n",
    "plt.step(tnom, [*unom[:N,0],unom[N-1,0]],'-',color='tab:brown',alpha=1.0,where='post',linewidth=2.0,label='nominal')\n",
    "plt.plot(1e3, 1e3,'-',color='tab:purple',alpha=1.0,linewidth=1.0,label='samples')\n",
    "plt.xlabel('time (s)', fontsize = fS)\n",
    "plt.ylabel('$u_v$ (m/s)', fontsize = fS)\n",
    "plt.xticks(fontsize=15)\n",
    "plt.yticks(fontsize=15)\n",
    "plt.axis([0.0, tf, -0.5, 3.5])\n",
    "plt.grid(True)\n",
    "\n",
    "plt.subplot(122)\n",
    "plt.plot(tnom, unom[:,1]*0+myConst.wmax,'-.',color='tab:red',alpha=1.0,linewidth=2.0)\n",
    "plt.plot(tnom, unom[:,1]*0+myConst.wmin,'-.',color='tab:red',alpha=1.0,linewidth=2.0,label='limit')\n",
    "plt.step(tnom, [*unom[:N,1],unom[N-1,1]],'-',color='tab:brown',alpha=1.0,where='post',linewidth=2.0,label='nominal')\n",
    "plt.plot(1e3, 1e3,'-',color='tab:purple',alpha=1.0,linewidth=1.0,label='samples')\n",
    "plt.xlabel('time (s)', fontsize = fS)\n",
    "plt.ylabel('$u_{\\Theta}$ (rad/s)', fontsize = fS)\n",
    "plt.xticks(fontsize=15)\n",
    "plt.yticks(fontsize=15)\n",
    "plt.axis([0.0, tf, -3, 3])\n",
    "plt.legend(fontsize=fS)\n",
    "plt.rcParams[\"font.family\"] = \"Times New Roman\"\n",
    "plt.grid(True)"
   ]
  },
  {
   "cell_type": "markdown",
   "metadata": {},
   "source": [
    "## run"
   ]
  },
  {
   "cell_type": "code",
   "execution_count": 13,
   "metadata": {},
   "outputs": [
    {
     "name": "stdout",
     "output_type": "stream",
     "text": [
      "Is DPP?  True\n",
      "nonlinear funnel\n",
      "Is DPP?  True\n"
     ]
    }
   ],
   "source": [
    "total_iter = 20\n",
    "\n",
    "tol_funl = 1e-8\n",
    "tol_traj = 1e-8\n",
    "tol_vc = 1e-8\n",
    "tol_dyn = 1e-8\n",
    "\n",
    "traj_solver= trajopt('unicycle',N,tf,10,myModel,myCost,myConst,Scaling=traj_scaling,\n",
    "              w_c=1,w_vc=1e3,w_tr=1e0,tol_vc=1e-6,tol_tr=1e-4,tol_dyn=1e-3,verbosity=False)\n",
    "\n",
    "funl_solver = funlopt(ix,iu,iq,ip,iw,N,myCost.S,myCost.R,funl_scaling,\n",
    "                      alpha=0.99,\n",
    "                      lambda_mu=0.1,\n",
    "                      w_tr=1e-4,\n",
    "                      flag_nonlinearity=True)\n",
    "funl_solver.cvx_initialize(Qini,Qf)\n",
    "lip_estimator = Lipschitz(ix,iu,iq,ip,iw,N,num_sample=100,flag_uniform=True)\n",
    "\n",
    "from jointsynthesis import jointsynthesis\n",
    "JS = jointsynthesis(myModel,traj_solver,funl_solver,lip_estimator,total_iter,\n",
    "                   tol_traj,tol_funl,tol_vc,tol_dyn,verbosity=True)"
   ]
  },
  {
   "cell_type": "code",
   "execution_count": 14,
   "metadata": {},
   "outputs": [
    {
     "name": "stdout",
     "output_type": "stream",
     "text": [
      "|iter| traj_cost | funl_cost |   vc   |   Delta_T   |   Delta_F   | e_prop  |gamma diff|\n",
      "|    |           |           | log10  |   log10     |   log10     | log10   |          |\n",
      "|1   |188.288    |7.780      |-10.8(1)|2.31      (0)|2.78      (0)|-4.719(0)|0.78872435|\n",
      "|2   |156.695    |5.923      |-12  (1)|1.25      (0)|1.44      (0)|-3.143(0)|0.37064756|\n",
      "|3   |148.222    |5.527      |-12  (1)|0.784     (0)|1.23      (0)|-3.506(0)|0.15278050|\n",
      "|4   |143.812    |5.552      |-11.6(1)|-0.216    (0)|1.4       (0)|-4.601(0)|0.05013995|\n",
      "|5   |143.561    |5.593      |-12.1(1)|-0.736    (0)|0.312     (0)|-4.677(0)|0.02333592|\n",
      "|6   |143.960    |5.616      |-11.6(1)|-1.64     (0)|-0.625    (0)|-4.651(0)|0.00683532|\n",
      "|7   |144.294    |5.630      |-12.4(1)|-2.31     (0)|-2.25     (0)|-4.836(0)|0.00342321|\n",
      "|8   |144.450    |5.636      |-12.9(1)|-2.96     (0)|-2.54     (0)|-4.983(0)|0.00158868|\n",
      "|9   |144.515    |5.639      |-12.8(1)|-3.52     (0)|-2.79     (0)|-5.758(0)|0.00081143|\n",
      "|10  |144.548    |5.640      |-13.3(1)|-4.05     (0)|-3.15     (0)|-6.232(0)|0.00044165|\n",
      "|11  |144.565    |5.641      |-11  (1)|-4.59     (0)|-3.74     (0)|-6.619(0)|0.00023898|\n",
      "|12  |144.572    |5.641      |-10.9(1)|-5.21     (0)|-4.21     (0)|-7.005(0)|0.00011998|\n",
      "|13  |144.575    |5.641      |-13.2(1)|-5.77     (0)|-4.92     (0)|-7.450(0)|0.00005397|\n",
      "|14  |144.575    |5.641      |-13.2(1)|-6.16     (0)|-5.6      (0)|-8.022(1)|0.00002348|\n",
      "|15  |144.574    |5.641      |-12.4(1)|-6.36     (0)|-6.42     (0)|-8.203(1)|0.00001489|\n",
      "|16  |144.573    |5.641      |-12.4(1)|-6.55     (0)|-6.89     (0)|-8.386(1)|0.00001284|\n",
      "|17  |144.572    |5.641      |-12.4(1)|-6.77     (0)|-6.94     (0)|-8.600(1)|0.00001116|\n",
      "|18  |144.571    |5.641      |-12.4(1)|-7.04     (0)|-7.02     (0)|-8.856(1)|0.00000900|\n",
      "|19  |144.570    |5.641      |-12.4(1)|-7.34     (0)|-7.18     (0)|-9.111(1)|0.00000682|\n",
      "|20  |144.570    |5.641      |-12.4(1)|-7.67     (0)|-7.42     (0)|-9.319(1)|0.00000495|\n"
     ]
    }
   ],
   "source": [
    "history = JS.run(xi,xf,x0,u0,Q0,Y0,K0)"
   ]
  },
  {
   "cell_type": "code",
   "execution_count": 16,
   "metadata": {},
   "outputs": [
    {
     "data": {
      "text/plain": [
       "array([0.0124899 , 0.02714098, 0.03483295, 0.03617978, 0.03171187,\n",
       "       0.02589356, 0.02079456, 0.01248384, 0.0365738 , 0.0119065 ,\n",
       "       0.01802497, 0.02251206, 0.02803555, 0.03220767, 0.0340369 ,\n",
       "       0.03459008, 0.03425615, 0.03281785, 0.02940881, 0.0252588 ,\n",
       "       0.0252897 , 0.03130506, 0.03241723, 0.02914912, 0.02309968,\n",
       "       0.02262727, 0.02907461, 0.02814188, 0.02020462, 0.00625862])"
      ]
     },
     "execution_count": 16,
     "metadata": {},
     "output_type": "execute_result"
    }
   ],
   "source": [
    "history[0]['gamma']"
   ]
  },
  {
   "cell_type": "code",
   "execution_count": null,
   "metadata": {},
   "outputs": [],
   "source": [
    "del_traj_list = [history[i]['traj_diff'] for i in range(len(history))]\n",
    "del_funl_list = [history[i]['funl_diff'] for i in range(len(history))]\n",
    "vc_list = [history[i]['vc'] for i in range(len(history))]\n",
    "dyn_error_list = [history[i]['dyn_error'] for i in range(len(history))]"
   ]
  },
  {
   "cell_type": "code",
   "execution_count": null,
   "metadata": {},
   "outputs": [],
   "source": [
    "i_index = np.array([i+1 for i in range(len(history))])\n",
    "fS = 20\n",
    "plt.figure(figsize=(15,8))\n",
    "plt.subplot(221)\n",
    "plt.plot(i_index,vc_list,'o-')\n",
    "plt.plot(i_index,i_index*0+tol_vc,'--')\n",
    "# plt.xlabel('iteration number',fontsize=fS,fontname='Times New Roman')\n",
    "plt.ylabel(r'$\\Delta_{vc}$',fontsize=fS,fontname='Times New Roman')\n",
    "plt.yscale('log')\n",
    "# plt.ylim([10**(-6), 10**(4)])\n",
    "plt.grid(True)\n",
    "plt.xticks(fontsize=15)\n",
    "plt.yticks(fontsize=15)\n",
    "\n",
    "plt.subplot(222)\n",
    "plt.plot(i_index,dyn_error_list,'o-')\n",
    "plt.plot(i_index,i_index*0+tol_dyn,'--',label='tolerance')\n",
    "# plt.xlabel('iteration number',fontsize=fS,fontname='Times New Roman')\n",
    "plt.ylabel(r'$\\Delta_{dyn}$',fontsize=fS,fontname='Times New Roman')\n",
    "plt.yscale('log')\n",
    "# plt.ylim([10**(-6), 10**(4)])\n",
    "plt.grid(True)\n",
    "plt.xticks(fontsize=15)\n",
    "plt.yticks(fontsize=15)\n",
    "plt.legend(fontsize=fS)\n",
    "\n",
    "\n",
    "plt.subplot(223)\n",
    "plt.plot(i_index,del_traj_list,'o-')\n",
    "plt.plot(i_index,i_index*0+tol_traj,'--')\n",
    "plt.xlabel('iteration number',fontsize=fS,fontname='Times New Roman')\n",
    "plt.ylabel(r'$\\Delta_T$',fontsize=fS,fontname='Times New Roman')\n",
    "plt.yscale('log')\n",
    "# plt.ylim([10**(-6), 10**(4)])\n",
    "plt.grid(True)\n",
    "plt.xticks(fontsize=15)\n",
    "plt.yticks(fontsize=15)\n",
    "\n",
    "plt.subplot(224)\n",
    "plt.plot(i_index,del_funl_list,'o-')\n",
    "plt.plot(i_index,i_index*0+tol_funl,'--')\n",
    "plt.xlabel('iteration number',fontsize=fS,fontname='Times New Roman')\n",
    "plt.ylabel(r'$\\Delta_F$',fontsize=fS,fontname='Times New Roman')\n",
    "plt.yscale('log')\n",
    "# plt.ylim([10**(-6), 10**(4)])\n",
    "plt.xticks(fontsize=15)\n",
    "plt.yticks(fontsize=15)\n",
    "plt.rcParams[\"font.family\"] = \"Times New Roman\"\n",
    "plt.grid(True)\n",
    "\n",
    "\n",
    "# plt.savefig('../images/convergence_result.pdf')"
   ]
  },
  {
   "cell_type": "markdown",
   "metadata": {},
   "source": [
    "# Computational time"
   ]
  },
  {
   "cell_type": "code",
   "execution_count": null,
   "metadata": {},
   "outputs": [],
   "source": [
    "time_derivs = []\n",
    "time_trajopt = []\n",
    "time_funlopt = []\n",
    "time_lipschitz = []\n",
    "\n",
    "for his in history :\n",
    "    time_derivs.append(his['t_derivs'])\n",
    "    time_trajopt.append(his['t_trajopt'])\n",
    "    time_funlopt.append(his['t_funlopt'])\n",
    "    time_lipschitz.append(his['t_Lipschitz'])\n",
    "def mean_list(l) :\n",
    "    return sum(l)/len(l)\n",
    "mean_derivs = mean_list(time_derivs)\n",
    "mean_trajopt = mean_list(time_trajopt)\n",
    "mean_funlopt = mean_list(time_funlopt)\n",
    "mean_lipschitz = mean_list(time_lipschitz)\n",
    "print(\"mean_derivs\",mean_derivs)\n",
    "print(\"mean_trajopt\",mean_trajopt)\n",
    "print(\"mean_funlopt\",mean_funlopt)\n",
    "print(\"mean_lipschitz\",mean_lipschitz)"
   ]
  },
  {
   "cell_type": "markdown",
   "metadata": {},
   "source": [
    "# Evaluate the generated traj and funl"
   ]
  },
  {
   "cell_type": "code",
   "execution_count": null,
   "metadata": {},
   "outputs": [],
   "source": [
    "from utils.utils_alg import forward_full_with_K,get_sample_trajectory\n",
    "import scipy"
   ]
  },
  {
   "cell_type": "code",
   "execution_count": null,
   "metadata": {},
   "outputs": [],
   "source": [
    "xbar = history[-1]['x']\n",
    "ubar = history[-1]['u']\n",
    "Qbar = history[-1]['Q']\n",
    "Ybar = history[-1]['Y']\n",
    "Kbar = history[-1]['K']\n",
    "gammabar = history[-1]['gamma']"
   ]
  },
  {
   "cell_type": "markdown",
   "metadata": {},
   "source": [
    "# Sample from initial set"
   ]
  },
  {
   "cell_type": "code",
   "execution_count": null,
   "metadata": {},
   "outputs": [],
   "source": [
    "x0_sample = []\n",
    "num_sample = 5\n",
    "for i in range(num_sample) :\n",
    "    z = np.random.randn(ix)\n",
    "    z = z / np.linalg.norm(z)\n",
    "    z = np.array([0,1,0])\n",
    "    x_s = xbar[0] + scipy.linalg.sqrtm(Qbar[0])@z\n",
    "    x0_sample.append(x_s)\n",
    "    \n",
    "\n"
   ]
  },
  {
   "cell_type": "code",
   "execution_count": null,
   "metadata": {},
   "outputs": [],
   "source": [
    "tsam,xsam,usam,wsam,xsamp = get_sample_trajectory(xi,x0_sample,xbar,ubar,Qbar,Ybar,myModel,N,ix,iu,iw,delT,\n",
    "                                            flag_noise=True,discrete=True)\n"
   ]
  },
  {
   "cell_type": "code",
   "execution_count": null,
   "metadata": {},
   "outputs": [],
   "source": [
    "fS = 15\n",
    "plt.figure(0,figsize=(15,7))\n",
    "plot_traj_set(xbar,ubar,c_list,H_list,Qbar,xi=xi,xf=xf,Qi=Qini,Qf=Qf,plt=plt)\n",
    "plt.legend(fontsize=fS)\n",
    "plt.rcParams[\"font.family\"] = \"Times New Roman\"\n",
    "plt.axis([-1.0, 9.0, -1.0, 5.0])\n",
    "# plt.savefig('../images/first_iteration/proposed.pdf')"
   ]
  },
  {
   "cell_type": "code",
   "execution_count": null,
   "metadata": {},
   "outputs": [],
   "source": [
    "fS = 20\n",
    "plt.figure(0,figsize=(15,7))\n",
    "plot_traj_set(xbar,ubar,c_list,H_list,Qbar,xi=xi,xf=xf,Qi=Qini,Qf=Qf,plt=plt,flag_label=True,fS=fS)\n",
    "# for xsam_e in xsam :\n",
    "for xsam_e in xsamp :\n",
    "    plt.plot(xsam_e[:,0], xsam_e[:,1],'o-',markersize=3.0, linewidth=1.0,alpha=1.0,color='tab:purple')\n",
    "plt.plot(1e3,1e3,'o-',color='tab:purple',label='samples')\n",
    "# plt.plot(xnom[:,0],xnom[:,1],'-.',color='tab:brown',label='traj w/o funnel')\n",
    "plt.legend(fontsize=fS)\n",
    "plt.grid(True)\n",
    "plt.rcParams[\"font.family\"] = \"Times New Roman\"\n",
    "plt.axis([-1.0, 9.0, -1.0, 5.0])\n",
    "plt.xticks(fontsize=15)\n",
    "plt.yticks(fontsize=15)\n",
    "# plt.savefig('../images/traj_result_new.pdf')"
   ]
  },
  {
   "cell_type": "code",
   "execution_count": null,
   "metadata": {},
   "outputs": [],
   "source": [
    "fS = 20\n",
    "plt.figure(0,figsize=(15,5))\n",
    "alpha = 1.0\n",
    "t_index = np.array(range(N+1))*delT\n",
    "for i in range(num_sample) :\n",
    "    tsam_e = tsam[i]\n",
    "    xsam_e = xsam[i]\n",
    "    usam_e = usam[i]\n",
    "#     plot_state_input(tsam_e,xsam_e,usam_e,None,None,N,delT,alpha,plt,flag_step=False)\n",
    "\n",
    "    plt.subplot(121)\n",
    "    plt.plot(tsam_e, usam_e[:,0],color='tab:purple',alpha=alpha,linewidth=2.0)\n",
    "    plt.subplot(122)\n",
    "    plt.plot(tsam_e, usam_e[:,1],color='tab:purple',alpha=alpha,linewidth=2.0)\n",
    "plt.subplot(121)\n",
    "plt.plot(tsam_e, usam_e[:,0]*0+myConst.vmax,'-.',color='tab:red',alpha=1.0,linewidth=2.0,label='limit')\n",
    "plt.plot(tsam_e, usam_e[:,0]*0+myConst.vmin,'-.',color='tab:red',alpha=1.0,linewidth=2.0)\n",
    "plt.step(t_index, [*ubar[:N,0],ubar[N-1,0]],'--',color='tab:orange',alpha=1.0,where='post',linewidth=2.0,label='nominal')\n",
    "plt.plot(1e3, 1e3,'-',color='tab:purple',alpha=1.0,linewidth=1.0,label='samples')\n",
    "plt.xlabel('time (s)', fontsize = fS)\n",
    "plt.ylabel('$u_v$ (m/s)', fontsize = fS)\n",
    "plt.xticks(fontsize=15)\n",
    "plt.yticks(fontsize=15)\n",
    "plt.axis([0.0, tf, -0.5, 3.5])\n",
    "plt.grid(True)\n",
    "plt.subplot(122)\n",
    "plt.plot(tsam_e, usam_e[:,1]*0+myConst.wmax,'-.',color='tab:red',alpha=1.0,linewidth=2.0)\n",
    "plt.plot(tsam_e, usam_e[:,1]*0+myConst.wmin,'-.',color='tab:red',alpha=1.0,linewidth=2.0,label='limit')\n",
    "plt.step(t_index, [*ubar[:N,1],ubar[N-1,1]],'--',color='tab:orange',alpha=1.0,where='post',linewidth=2.0,label='nominal')\n",
    "plt.plot(1e3, 1e3,'-',color='tab:purple',alpha=1.0,linewidth=1.0,label='samples')\n",
    "plt.xlabel('time (s)', fontsize = fS)\n",
    "plt.ylabel('$u_{\\Theta}$ (rad/s)', fontsize = fS)\n",
    "plt.xticks(fontsize=15)\n",
    "plt.yticks(fontsize=15)\n",
    "plt.axis([0.0, tf, -3, 3])\n",
    "plt.legend(fontsize=fS)\n",
    "plt.rcParams[\"font.family\"] = \"Times New Roman\"\n",
    "plt.grid(True)\n",
    "# plt.savefig('../images/input_result_new.pdf')\n"
   ]
  },
  {
   "cell_type": "code",
   "execution_count": null,
   "metadata": {},
   "outputs": [],
   "source": [
    "# fS = 20\n",
    "# plt.figure(0,figsize=(10,5))\n",
    "# alpha = 0.5\n",
    "# t_index = np.array(range(N+1))*delT\n",
    "# for i in range(num_sample) :\n",
    "#     tsam_e = tsam[i]\n",
    "#     xsam_e = xsam[i]\n",
    "#     wsam_e = wsam[i]\n",
    "# #     plot_state_input(tsam_e,xsam_e,usam_e,None,None,N,delT,alpha,plt,flag_step=False)\n",
    "#     plt.subplot(121)\n",
    "#     plt.plot(tsam_e, wsam_e[:,0],color='tab:purple',alpha=alpha,linewidth=1.0)\n",
    "#     plt.subplot(122)\n",
    "#     plt.plot(tsam_e, wsam_e[:,1],color='tab:purple',alpha=alpha,linewidth=1.0)\n",
    "# plt.subplot(121)\n",
    "# plt.plot(1e3, 1e3,'-',color='tab:purple',alpha=1.0,linewidth=1.0,label='samples')\n",
    "# plt.xlabel('time (s)', fontsize = fS)\n",
    "# plt.ylabel('w1 (m)', fontsize = fS)\n",
    "# plt.axis([0.0, tf, -2, 2])\n",
    "# plt.subplot(122)\n",
    "# plt.plot(1e3, 1e3,'-',color='tab:purple',alpha=1.0,linewidth=1.0,label='samples')\n",
    "# plt.xlabel('time (s)', fontsize = fS)\n",
    "# plt.ylabel('w2 (m)', fontsize = fS)\n",
    "# plt.axis([0.0, tf, -2, 2])\n",
    "# plt.legend(fontsize=fS)\n",
    "# plt.rcParams[\"font.family\"] = \"Times New Roman\"\n",
    "# # plt.savefig('../images/disturbance.pdf')"
   ]
  },
  {
   "cell_type": "code",
   "execution_count": null,
   "metadata": {},
   "outputs": [],
   "source": [
    "fS = 15\n",
    "plt.figure(0,figsize=(4,4))\n",
    "plot_traj_set(xbar,ubar,c_list,H_list,Qbar,xi=xi,xf=xf,Qi=Qini,Qf=Qf,plt=plt,flag_label=False)\n",
    "for xsam_e in xsamp :\n",
    "    plt.plot(xsam_e[:,0], xsam_e[:,1],'o',markersize=1.0, linewidth=1.0,alpha=1.0,color='tab:purple')\n",
    "plt.plot(1e3,1e3,'o-',color='tab:purple',label='samples')\n",
    "# plt.plot(xnom[:,0],xnom[:,1],'-.',color='tab:brown',label='traj w/o funnel')\n",
    "# plt.legend(fontsize=fS)\n",
    "plt.grid(True)\n",
    "plt.rcParams[\"font.family\"] = \"Times New Roman\"\n",
    "plt.axis([3.7, 5.7, 1.5, 3.5])\n",
    "plt.axis('off')\n",
    "# plt.savefig('../images/traj_result_new_expansion.pdf')"
   ]
  },
  {
   "cell_type": "code",
   "execution_count": null,
   "metadata": {},
   "outputs": [],
   "source": [
    "fS = 15\n",
    "plt.figure(0,figsize=(15,7))\n",
    "plot_traj_set(xbar,ubar,c_list,H_list,Qbar,xi=xi,xf=xf,Qi=Qini,Qf=Qf,plt=plt,flag_label=True)\n",
    "for xsam_e in xsamp :\n",
    "    plt.plot(xsam_e[:,0], xsam_e[:,1],'o',markersize=3.0, linewidth=1.0,alpha=1.0,color='tab:purple')\n",
    "#     plt.plot(xsam_e[1,0], xsam_e[1,1],'o',markersize=3.0, linewidth=1.0,alpha=1.0,color='tab:purple')\n",
    "plt.plot(1e3,1e3,'o-',color='tab:purple',label='samples')\n",
    "# plt.plot(xnom[:,0],xnom[:,1],'-.',color='tab:brown',label='traj w/o funnel')\n",
    "# plt.legend(fontsize=fS)\n",
    "plt.grid(True)\n",
    "plt.rcParams[\"font.family\"] = \"Times New Roman\"\n",
    "plt.axis([-1, 1, -1, 1])\n",
    "# plt.savefig('../images/traj_result.pdf')"
   ]
  },
  {
   "cell_type": "code",
   "execution_count": null,
   "metadata": {},
   "outputs": [],
   "source": [
    "fS = 15\n",
    "plt.figure(0,figsize=(15,7))\n",
    "plot_traj_set(xbar,ubar,c_list,H_list,Qbar,xi=xi,xf=xf,Qi=Qini,Qf=Qf,plt=plt,flag_label=True)\n",
    "for xsam_e in xsamp :\n",
    "    plt.plot(xsam_e[:,0], xsam_e[:,1],'o',markersize=3.0, linewidth=1.0,alpha=1.0,color='tab:purple')\n",
    "#     plt.plot(xsam_e[1,0], xsam_e[1,1],'o',markersize=3.0, linewidth=1.0,alpha=1.0,color='tab:purple')\n",
    "plt.plot(1e3,1e3,'o-',color='tab:purple',label='samples')\n",
    "# plt.plot(xnom[:,0],xnom[:,1],'-.',color='tab:brown',label='traj w/o funnel')\n",
    "# plt.legend(fontsize=fS)\n",
    "plt.grid(True)\n",
    "plt.rcParams[\"font.family\"] = \"Times New Roman\"\n",
    "plt.axis([7, 9, 3, 5])\n",
    "# plt.savefig('../images/traj_result.pdf')"
   ]
  },
  {
   "cell_type": "markdown",
   "metadata": {},
   "source": [
    "# Search the case of violating the invariance"
   ]
  },
  {
   "cell_type": "code",
   "execution_count": null,
   "metadata": {},
   "outputs": [],
   "source": [
    "from scipy.integrate import solve_ivp\n",
    "def dfdt(t,x,u,w) :\n",
    "    return np.squeeze(myModel.forward_uncertain(x,u,w))\n",
    "\n",
    "num_test = 10000\n",
    "for i in range(num_test) :\n",
    "    z = np.random.randn(ix)\n",
    "    z = z / np.linalg.norm(z)\n",
    "    x_s = xbar[0] + scipy.linalg.sqrtm(Qbar[0])@z\n",
    "    \n",
    "    u = ubar[0] + Kbar[0]@(x_s-xbar[0])\n",
    "    \n",
    "    z = np.random.randn(iw)\n",
    "    w = z / np.linalg.norm(z)\n",
    "#     w = np.array([1,0])\n",
    "    \n",
    "    sol = solve_ivp(dfdt,(0,delT),x_s,args=(u,w),max_step=delT/10,method='RK45',rtol=1e-6,atol=1e-10)\n",
    "    \n",
    "    xnew = sol.y[:,-1]\n",
    "    radi_next = (xnew-xbar[1]).T@np.linalg.inv(Qbar[1])@(xnew-xbar[1])\n",
    "    if radi_next > 1 :\n",
    "        print(\"found!\",radi_next)\n",
    "        break\n",
    "    if i == num_test - 1 :\n",
    "        print(\"no case\")\n",
    "        \n",
    "    \n",
    "    "
   ]
  },
  {
   "cell_type": "code",
   "execution_count": null,
   "metadata": {},
   "outputs": [],
   "source": [
    "fS = 15\n",
    "plt.figure(0,figsize=(15,7))\n",
    "plot_traj_set(xbar[0:2],ubar[0:2],c_list,H_list,Qbar[0:2],xi=xi,xf=xf,Qi=Qini,Qf=Qf,plt=plt,flag_label=True)\n",
    "plt.plot(xnew[0], xnew[1],'o',markersize=3.0, linewidth=1.0,alpha=1.0,color='tab:purple')\n",
    "plt.plot(1e3,1e3,'o-',color='tab:purple',label='samples')\n",
    "plt.grid(True)\n",
    "plt.rcParams[\"font.family\"] = \"Times New Roman\"\n",
    "plt.axis([-1, 1, -1, 1])"
   ]
  },
  {
   "cell_type": "code",
   "execution_count": null,
   "metadata": {},
   "outputs": [],
   "source": []
  }
 ],
 "metadata": {
  "kernelspec": {
   "display_name": "Python 3 (ipykernel)",
   "language": "python",
   "name": "python3"
  },
  "language_info": {
   "codemirror_mode": {
    "name": "ipython",
    "version": 3
   },
   "file_extension": ".py",
   "mimetype": "text/x-python",
   "name": "python",
   "nbconvert_exporter": "python",
   "pygments_lexer": "ipython3",
   "version": "3.9.13"
  }
 },
 "nbformat": 4,
 "nbformat_minor": 4
}
